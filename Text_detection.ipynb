{
  "cells": [
    {
      "cell_type": "markdown",
      "metadata": {
        "id": "view-in-github",
        "colab_type": "text"
      },
      "source": [
        "<a href=\"https://colab.research.google.com/github/sauravrox/image-text-detection/blob/main/Text_detection.ipynb\" target=\"_parent\"><img src=\"https://colab.research.google.com/assets/colab-badge.svg\" alt=\"Open In Colab\"/></a>"
      ]
    },
    {
      "cell_type": "code",
      "execution_count": 1,
      "metadata": {
        "id": "rpSM31QGXYvj"
      },
      "outputs": [],
      "source": [
        "import os\n",
        "import csv\n",
        "import gzip\n",
        "import collections\n",
        "import re\n",
        "import io\n",
        "import json\n",
        "import xml.etree.ElementTree as ET\n",
        "\n",
        "import requests\n",
        "import pandas as pd"
      ]
    },
    {
      "cell_type": "code",
      "execution_count": 2,
      "metadata": {
        "id": "i595_R87ZVFL",
        "colab": {
          "base_uri": "https://localhost:8080/"
        },
        "outputId": "507bd2d1-75c8-49de-ccaf-ae56d5fc3f63"
      },
      "outputs": [
        {
          "output_type": "stream",
          "name": "stdout",
          "text": [
            "Mounted at /content/drive\n"
          ]
        }
      ],
      "source": [
        "from google.colab import drive\n",
        "drive.mount('/content/drive')"
      ]
    },
    {
      "cell_type": "code",
      "execution_count": null,
      "metadata": {
        "id": "tJi2Qu1pXYtL"
      },
      "outputs": [],
      "source": [
        "xml_path = os.path.join('/content/drive/MyDrive/image/drugbank.xml.gz')\n",
        "with gzip.open(xml_path) as xml_file:\n",
        "    tree = ET.parse(xml_file)\n",
        "root = tree.getroot()"
      ]
    },
    {
      "cell_type": "code",
      "execution_count": null,
      "metadata": {
        "id": "c0cFflyNXYq4"
      },
      "outputs": [],
      "source": [
        "ns = '{http://www.drugbank.ca}'\n",
        "inchikey_template = \"{ns}calculated-properties/{ns}property[{ns}kind='InChIKey']/{ns}value\"\n",
        "inchi_template = \"{ns}calculated-properties/{ns}property[{ns}kind='InChI']/{ns}value\"\n",
        "\n",
        "rows = list()\n",
        "for i, drug in enumerate(root):\n",
        "    row = collections.OrderedDict()\n",
        "    assert drug.tag == ns + 'drug'\n",
        "    row['type'] = drug.get('type')\n",
        "    row['drugbank_id'] = drug.findtext(ns + \"drugbank-id[@primary='true']\")\n",
        "    row['name'] = drug.findtext(ns + \"name\")\n",
        "    row['description'] = drug.findtext(ns + \"description\")\n",
        "    row['groups'] = [group.text for group in\n",
        "        drug.findall(\"{ns}groups/{ns}group\".format(ns = ns))]\n",
        "    row['atc_codes'] = [code.get('code') for code in\n",
        "        drug.findall(\"{ns}atc-codes/{ns}atc-code\".format(ns = ns))]\n",
        "    row['categories'] = [x.findtext(ns + 'category') for x in\n",
        "        drug.findall(\"{ns}categories/{ns}category\".format(ns = ns))]\n",
        "    row['inchi'] = drug.findtext(inchi_template.format(ns = ns))\n",
        "    row['inchikey'] = drug.findtext(inchikey_template.format(ns = ns))\n",
        "    \n",
        "    # Add drug aliases\n",
        "    aliases = {\n",
        "        elem.text for elem in \n",
        "        drug.findall(\"{ns}international-brands/{ns}international-brand\".format(ns = ns)) +\n",
        "        drug.findall(\"{ns}synonyms/{ns}synonym[@language='English']\".format(ns = ns)) +\n",
        "        drug.findall(\"{ns}international-brands/{ns}international-brand\".format(ns = ns)) +\n",
        "        drug.findall(\"{ns}products/{ns}product/{ns}name\".format(ns = ns))\n",
        "\n",
        "    }\n",
        "    aliases.add(row['name'])\n",
        "    row['aliases'] = sorted(aliases)\n",
        "\n",
        "    rows.append(row)"
      ]
    },
    {
      "cell_type": "code",
      "execution_count": null,
      "metadata": {
        "id": "WDh5NGRWXYos"
      },
      "outputs": [],
      "source": [
        "alias_dict = {row['drugbank_id']: row['aliases'] for row in rows}\n",
        "with open('/content/drive/MyDrive/image/aliases.json', 'w') as fp:\n",
        "    json.dump(alias_dict, fp, indent=2, sort_keys=True)"
      ]
    },
    {
      "cell_type": "code",
      "execution_count": null,
      "metadata": {
        "id": "nBCGkjCYXYkS",
        "colab": {
          "base_uri": "https://localhost:8080/",
          "height": 206
        },
        "outputId": "c83d54cd-feda-4860-fda5-e9c29191d726"
      },
      "outputs": [
        {
          "output_type": "execute_result",
          "data": {
            "text/html": [
              "\n",
              "  <div id=\"df-aed012c1-3a07-4011-b7c6-a1a76129fd28\">\n",
              "    <div class=\"colab-df-container\">\n",
              "      <div>\n",
              "<style scoped>\n",
              "    .dataframe tbody tr th:only-of-type {\n",
              "        vertical-align: middle;\n",
              "    }\n",
              "\n",
              "    .dataframe tbody tr th {\n",
              "        vertical-align: top;\n",
              "    }\n",
              "\n",
              "    .dataframe thead th {\n",
              "        text-align: right;\n",
              "    }\n",
              "</style>\n",
              "<table border=\"1\" class=\"dataframe\">\n",
              "  <thead>\n",
              "    <tr style=\"text-align: right;\">\n",
              "      <th></th>\n",
              "      <th>name</th>\n",
              "      <th>description</th>\n",
              "    </tr>\n",
              "  </thead>\n",
              "  <tbody>\n",
              "    <tr>\n",
              "      <th>0</th>\n",
              "      <td>Lepirudin</td>\n",
              "      <td>Lepirudin is identical to natural hirudin exce...</td>\n",
              "    </tr>\n",
              "    <tr>\n",
              "      <th>1</th>\n",
              "      <td>Cetuximab</td>\n",
              "      <td>Epidermal growth factor receptor binding FAB. ...</td>\n",
              "    </tr>\n",
              "    <tr>\n",
              "      <th>2</th>\n",
              "      <td>Dornase alfa</td>\n",
              "      <td>Dornase alfa is a biosynthetic form of human d...</td>\n",
              "    </tr>\n",
              "    <tr>\n",
              "      <th>3</th>\n",
              "      <td>Denileukin diftitox</td>\n",
              "      <td>A recombinant DNA-derived cytotoxic protein co...</td>\n",
              "    </tr>\n",
              "    <tr>\n",
              "      <th>4</th>\n",
              "      <td>Etanercept</td>\n",
              "      <td>Dimeric fusion protein consisting of the extra...</td>\n",
              "    </tr>\n",
              "  </tbody>\n",
              "</table>\n",
              "</div>\n",
              "      <button class=\"colab-df-convert\" onclick=\"convertToInteractive('df-aed012c1-3a07-4011-b7c6-a1a76129fd28')\"\n",
              "              title=\"Convert this dataframe to an interactive table.\"\n",
              "              style=\"display:none;\">\n",
              "        \n",
              "  <svg xmlns=\"http://www.w3.org/2000/svg\" height=\"24px\"viewBox=\"0 0 24 24\"\n",
              "       width=\"24px\">\n",
              "    <path d=\"M0 0h24v24H0V0z\" fill=\"none\"/>\n",
              "    <path d=\"M18.56 5.44l.94 2.06.94-2.06 2.06-.94-2.06-.94-.94-2.06-.94 2.06-2.06.94zm-11 1L8.5 8.5l.94-2.06 2.06-.94-2.06-.94L8.5 2.5l-.94 2.06-2.06.94zm10 10l.94 2.06.94-2.06 2.06-.94-2.06-.94-.94-2.06-.94 2.06-2.06.94z\"/><path d=\"M17.41 7.96l-1.37-1.37c-.4-.4-.92-.59-1.43-.59-.52 0-1.04.2-1.43.59L10.3 9.45l-7.72 7.72c-.78.78-.78 2.05 0 2.83L4 21.41c.39.39.9.59 1.41.59.51 0 1.02-.2 1.41-.59l7.78-7.78 2.81-2.81c.8-.78.8-2.07 0-2.86zM5.41 20L4 18.59l7.72-7.72 1.47 1.35L5.41 20z\"/>\n",
              "  </svg>\n",
              "      </button>\n",
              "      \n",
              "  <style>\n",
              "    .colab-df-container {\n",
              "      display:flex;\n",
              "      flex-wrap:wrap;\n",
              "      gap: 12px;\n",
              "    }\n",
              "\n",
              "    .colab-df-convert {\n",
              "      background-color: #E8F0FE;\n",
              "      border: none;\n",
              "      border-radius: 50%;\n",
              "      cursor: pointer;\n",
              "      display: none;\n",
              "      fill: #1967D2;\n",
              "      height: 32px;\n",
              "      padding: 0 0 0 0;\n",
              "      width: 32px;\n",
              "    }\n",
              "\n",
              "    .colab-df-convert:hover {\n",
              "      background-color: #E2EBFA;\n",
              "      box-shadow: 0px 1px 2px rgba(60, 64, 67, 0.3), 0px 1px 3px 1px rgba(60, 64, 67, 0.15);\n",
              "      fill: #174EA6;\n",
              "    }\n",
              "\n",
              "    [theme=dark] .colab-df-convert {\n",
              "      background-color: #3B4455;\n",
              "      fill: #D2E3FC;\n",
              "    }\n",
              "\n",
              "    [theme=dark] .colab-df-convert:hover {\n",
              "      background-color: #434B5C;\n",
              "      box-shadow: 0px 1px 3px 1px rgba(0, 0, 0, 0.15);\n",
              "      filter: drop-shadow(0px 1px 2px rgba(0, 0, 0, 0.3));\n",
              "      fill: #FFFFFF;\n",
              "    }\n",
              "  </style>\n",
              "\n",
              "      <script>\n",
              "        const buttonEl =\n",
              "          document.querySelector('#df-aed012c1-3a07-4011-b7c6-a1a76129fd28 button.colab-df-convert');\n",
              "        buttonEl.style.display =\n",
              "          google.colab.kernel.accessAllowed ? 'block' : 'none';\n",
              "\n",
              "        async function convertToInteractive(key) {\n",
              "          const element = document.querySelector('#df-aed012c1-3a07-4011-b7c6-a1a76129fd28');\n",
              "          const dataTable =\n",
              "            await google.colab.kernel.invokeFunction('convertToInteractive',\n",
              "                                                     [key], {});\n",
              "          if (!dataTable) return;\n",
              "\n",
              "          const docLinkHtml = 'Like what you see? Visit the ' +\n",
              "            '<a target=\"_blank\" href=https://colab.research.google.com/notebooks/data_table.ipynb>data table notebook</a>'\n",
              "            + ' to learn more about interactive tables.';\n",
              "          element.innerHTML = '';\n",
              "          dataTable['output_type'] = 'display_data';\n",
              "          await google.colab.output.renderOutput(dataTable, element);\n",
              "          const docLink = document.createElement('div');\n",
              "          docLink.innerHTML = docLinkHtml;\n",
              "          element.appendChild(docLink);\n",
              "        }\n",
              "      </script>\n",
              "    </div>\n",
              "  </div>\n",
              "  "
            ],
            "text/plain": [
              "                  name                                        description\n",
              "0            Lepirudin  Lepirudin is identical to natural hirudin exce...\n",
              "1            Cetuximab  Epidermal growth factor receptor binding FAB. ...\n",
              "2         Dornase alfa  Dornase alfa is a biosynthetic form of human d...\n",
              "3  Denileukin diftitox  A recombinant DNA-derived cytotoxic protein co...\n",
              "4           Etanercept  Dimeric fusion protein consisting of the extra..."
            ]
          },
          "metadata": {},
          "execution_count": 22
        }
      ],
      "source": [
        "def collapse_list_values(row):\n",
        "    for key, value in row.items():\n",
        "        if isinstance(value, list):\n",
        "            row[key] = '|'.join(value)\n",
        "    return row\n",
        "\n",
        "rows = list(map(collapse_list_values, rows))\n",
        "columns = ['name','description']\n",
        "df1 = pd.DataFrame.from_dict(rows)[columns]\n",
        "df1.head()"
      ]
    },
    {
      "cell_type": "code",
      "source": [
        "df2=pd.read_csv('/content/drive/MyDrive/image/drugsComTrain_raw.csv')\n",
        "frames = [df1, df2]\n",
        "result = pd.concat(frames)\n",
        "result.shape"
      ],
      "metadata": {
        "colab": {
          "base_uri": "https://localhost:8080/"
        },
        "id": "-oQM4S-2e5bz",
        "outputId": "0a3f0ac1-c1db-4f90-f03b-fa474627814c"
      },
      "execution_count": null,
      "outputs": [
        {
          "output_type": "execute_result",
          "data": {
            "text/plain": [
              "(169056, 2)"
            ]
          },
          "metadata": {},
          "execution_count": 23
        }
      ]
    },
    {
      "cell_type": "code",
      "execution_count": null,
      "metadata": {
        "id": "yLFhnMrf1LRu",
        "colab": {
          "base_uri": "https://localhost:8080/"
        },
        "outputId": "48fe0a2d-03b3-4c78-bcb1-2a8eb1a85639"
      },
      "outputs": [
        {
          "output_type": "stream",
          "name": "stdout",
          "text": [
            "Collecting tesseract-ocr\n",
            "  Using cached tesseract-ocr-0.0.1.tar.gz (33 kB)\n",
            "Requirement already satisfied: cython in /usr/local/lib/python3.7/dist-packages (from tesseract-ocr) (0.29.27)\n",
            "Building wheels for collected packages: tesseract-ocr\n",
            "  Building wheel for tesseract-ocr (setup.py) ... \u001b[?25lerror\n",
            "\u001b[31m  ERROR: Failed building wheel for tesseract-ocr\u001b[0m\n",
            "\u001b[?25h  Running setup.py clean for tesseract-ocr\n",
            "Failed to build tesseract-ocr\n",
            "Installing collected packages: tesseract-ocr\n",
            "    Running setup.py install for tesseract-ocr ... \u001b[?25l\u001b[?25herror\n",
            "\u001b[31mERROR: Command errored out with exit status 1: /usr/bin/python3 -u -c 'import io, os, sys, setuptools, tokenize; sys.argv[0] = '\"'\"'/tmp/pip-install-7n5e45bm/tesseract-ocr_931d012530334f169fd0b2ed080eeb65/setup.py'\"'\"'; __file__='\"'\"'/tmp/pip-install-7n5e45bm/tesseract-ocr_931d012530334f169fd0b2ed080eeb65/setup.py'\"'\"';f = getattr(tokenize, '\"'\"'open'\"'\"', open)(__file__) if os.path.exists(__file__) else io.StringIO('\"'\"'from setuptools import setup; setup()'\"'\"');code = f.read().replace('\"'\"'\\r\\n'\"'\"', '\"'\"'\\n'\"'\"');f.close();exec(compile(code, __file__, '\"'\"'exec'\"'\"'))' install --record /tmp/pip-record-xo_l8cpa/install-record.txt --single-version-externally-managed --compile --install-headers /usr/local/include/python3.7/tesseract-ocr Check the logs for full command output.\u001b[0m\n",
            "\u001b[31mERROR: Could not find a version that satisfies the requirement libtesseract-dev (from versions: none)\u001b[0m\n",
            "\u001b[31mERROR: No matching distribution found for libtesseract-dev\u001b[0m\n",
            "Requirement already satisfied: pytesseract in /usr/local/lib/python3.7/dist-packages (0.3.8)\n",
            "Requirement already satisfied: Pillow in /usr/local/lib/python3.7/dist-packages (from pytesseract) (7.1.2)\n"
          ]
        }
      ],
      "source": [
        "!pip install tesseract-ocr\n",
        "!pip install libtesseract-dev\n",
        "!pip install pytesseract"
      ]
    },
    {
      "cell_type": "code",
      "execution_count": null,
      "metadata": {
        "id": "3n4WtwOa1gtq"
      },
      "outputs": [],
      "source": [
        "import pandas as pd\n",
        "import numpy as np\n",
        "import cv2\n",
        "import pytesseract\n",
        "custom_config = r' — oem 3 — psm 6'\n",
        "from matplotlib import pyplot as plt"
      ]
    },
    {
      "cell_type": "code",
      "execution_count": null,
      "metadata": {
        "id": "WaWXaFJ11npb",
        "colab": {
          "base_uri": "https://localhost:8080/"
        },
        "outputId": "67b490de-64a9-4548-dc8c-7c8cc82f3fd8"
      },
      "outputs": [
        {
          "output_type": "stream",
          "name": "stdout",
          "text": [
            "Reading package lists... Done\n",
            "Building dependency tree       \n",
            "Reading state information... Done\n",
            "tesseract-ocr is already the newest version (4.00~git2288-10f4998a-2).\n",
            "The following packages were automatically installed and are no longer required:\n",
            "  cuda-command-line-tools-10-0 cuda-command-line-tools-10-1\n",
            "  cuda-command-line-tools-11-0 cuda-compiler-10-0 cuda-compiler-10-1\n",
            "  cuda-compiler-11-0 cuda-cuobjdump-10-0 cuda-cuobjdump-10-1\n",
            "  cuda-cuobjdump-11-0 cuda-cupti-10-0 cuda-cupti-10-1 cuda-cupti-11-0\n",
            "  cuda-cupti-dev-11-0 cuda-documentation-10-0 cuda-documentation-10-1\n",
            "  cuda-documentation-11-0 cuda-documentation-11-1 cuda-gdb-10-0 cuda-gdb-10-1\n",
            "  cuda-gdb-11-0 cuda-gpu-library-advisor-10-0 cuda-gpu-library-advisor-10-1\n",
            "  cuda-libraries-10-0 cuda-libraries-10-1 cuda-libraries-11-0\n",
            "  cuda-memcheck-10-0 cuda-memcheck-10-1 cuda-memcheck-11-0 cuda-nsight-10-0\n",
            "  cuda-nsight-10-1 cuda-nsight-11-0 cuda-nsight-11-1 cuda-nsight-compute-10-0\n",
            "  cuda-nsight-compute-10-1 cuda-nsight-compute-11-0 cuda-nsight-compute-11-1\n",
            "  cuda-nsight-systems-10-1 cuda-nsight-systems-11-0 cuda-nsight-systems-11-1\n",
            "  cuda-nvcc-10-0 cuda-nvcc-10-1 cuda-nvcc-11-0 cuda-nvdisasm-10-0\n",
            "  cuda-nvdisasm-10-1 cuda-nvdisasm-11-0 cuda-nvml-dev-10-0 cuda-nvml-dev-10-1\n",
            "  cuda-nvml-dev-11-0 cuda-nvprof-10-0 cuda-nvprof-10-1 cuda-nvprof-11-0\n",
            "  cuda-nvprune-10-0 cuda-nvprune-10-1 cuda-nvprune-11-0 cuda-nvtx-10-0\n",
            "  cuda-nvtx-10-1 cuda-nvtx-11-0 cuda-nvvp-10-0 cuda-nvvp-10-1 cuda-nvvp-11-0\n",
            "  cuda-nvvp-11-1 cuda-samples-10-0 cuda-samples-10-1 cuda-samples-11-0\n",
            "  cuda-samples-11-1 cuda-sanitizer-11-0 cuda-sanitizer-api-10-1\n",
            "  cuda-toolkit-10-0 cuda-toolkit-10-1 cuda-toolkit-11-0 cuda-toolkit-11-1\n",
            "  cuda-tools-10-0 cuda-tools-10-1 cuda-tools-11-0 cuda-tools-11-1\n",
            "  cuda-visual-tools-10-0 cuda-visual-tools-10-1 cuda-visual-tools-11-0\n",
            "  cuda-visual-tools-11-1 default-jre dkms freeglut3 freeglut3-dev\n",
            "  keyboard-configuration libargon2-0 libcap2 libcryptsetup12\n",
            "  libdevmapper1.02.1 libfontenc1 libidn11 libip4tc0 libjansson4\n",
            "  libnvidia-cfg1-510 libnvidia-common-460 libnvidia-common-510\n",
            "  libnvidia-extra-510 libnvidia-fbc1-510 libnvidia-gl-510 libpam-systemd\n",
            "  libpolkit-agent-1-0 libpolkit-backend-1-0 libpolkit-gobject-1-0 libxfont2\n",
            "  libxi-dev libxkbfile1 libxmu-dev libxmu-headers libxnvctrl0 libxtst6\n",
            "  nsight-compute-2020.2.1 nsight-compute-2022.1.0 nsight-systems-2020.3.2\n",
            "  nsight-systems-2020.3.4 nsight-systems-2021.5.2 nvidia-dkms-510\n",
            "  nvidia-kernel-common-510 nvidia-kernel-source-510 nvidia-modprobe\n",
            "  nvidia-settings openjdk-11-jre policykit-1 policykit-1-gnome python3-xkit\n",
            "  screen-resolution-extra systemd systemd-sysv udev x11-xkb-utils\n",
            "  xserver-common xserver-xorg-core-hwe-18.04 xserver-xorg-video-nvidia-510\n",
            "Use 'sudo apt autoremove' to remove them.\n",
            "0 upgraded, 0 newly installed, 0 to remove and 39 not upgraded.\n"
          ]
        }
      ],
      "source": [
        "!sudo apt install tesseract-ocr"
      ]
    },
    {
      "cell_type": "code",
      "source": [
        "from IPython.display import display, Javascript\n",
        "from google.colab.output import eval_js\n",
        "from base64 import b64decode\n",
        "\n",
        "def take_photo(filename='photo.jpg', quality=0.8):\n",
        "  js = Javascript('''\n",
        "    async function takePhoto(quality) {\n",
        "      const div = document.createElement('div');\n",
        "      const capture = document.createElement('button');\n",
        "      capture.textContent = 'Capture';\n",
        "      div.appendChild(capture);\n",
        "\n",
        "      const video = document.createElement('video');\n",
        "      video.style.display = 'block';\n",
        "      const stream = await navigator.mediaDevices.getUserMedia({video: true});\n",
        "\n",
        "      document.body.appendChild(div);\n",
        "      div.appendChild(video);\n",
        "      video.srcObject = stream;\n",
        "      await video.play();\n",
        "\n",
        "      // Resize the output to fit the video element.\n",
        "      google.colab.output.setIframeHeight(document.documentElement.scrollHeight, true);\n",
        "\n",
        "      // Wait for Capture to be clicked.\n",
        "      await new Promise((resolve) => capture.onclick = resolve);\n",
        "\n",
        "      const canvas = document.createElement('canvas');\n",
        "      canvas.width = video.videoWidth;\n",
        "      canvas.height = video.videoHeight;\n",
        "      canvas.getContext('2d').drawImage(video, 0, 0);\n",
        "      stream.getVideoTracks()[0].stop();\n",
        "      div.remove();\n",
        "      return canvas.toDataURL('image/jpeg', quality);\n",
        "    }\n",
        "    ''')\n",
        "  display(js)\n",
        "  data = eval_js('takePhoto({})'.format(quality))\n",
        "  binary = b64decode(data.split(',')[1])\n",
        "  with open(filename, 'wb') as f:\n",
        "    f.write(binary)\n",
        "  return filename"
      ],
      "metadata": {
        "id": "vPvlKdMBBI_Z"
      },
      "execution_count": null,
      "outputs": []
    },
    {
      "cell_type": "code",
      "source": [
        "from IPython.display import Image\n",
        "try:\n",
        "  filename = take_photo()\n",
        "  print('Saved to {}'.format(filename))\n",
        "  \n",
        "  # Show the image which was just taken.\n",
        "  display(Image(filename))\n",
        "except Exception as err:\n",
        "  # Errors will be thrown if the user does not have a webcam or if they do not\n",
        "  # grant the page permission to access it.\n",
        "  print(str(err))"
      ],
      "metadata": {
        "colab": {
          "base_uri": "https://localhost:8080/",
          "height": 396
        },
        "id": "kNz98T5DBI_b",
        "outputId": "b73c53a4-7e25-4b1b-e116-5398ee4289bd"
      },
      "execution_count": null,
      "outputs": [
        {
          "output_type": "display_data",
          "data": {
            "application/javascript": [
              "\n",
              "    async function takePhoto(quality) {\n",
              "      const div = document.createElement('div');\n",
              "      const capture = document.createElement('button');\n",
              "      capture.textContent = 'Capture';\n",
              "      div.appendChild(capture);\n",
              "\n",
              "      const video = document.createElement('video');\n",
              "      video.style.display = 'block';\n",
              "      const stream = await navigator.mediaDevices.getUserMedia({video: true});\n",
              "\n",
              "      document.body.appendChild(div);\n",
              "      div.appendChild(video);\n",
              "      video.srcObject = stream;\n",
              "      await video.play();\n",
              "\n",
              "      // Resize the output to fit the video element.\n",
              "      google.colab.output.setIframeHeight(document.documentElement.scrollHeight, true);\n",
              "\n",
              "      // Wait for Capture to be clicked.\n",
              "      await new Promise((resolve) => capture.onclick = resolve);\n",
              "\n",
              "      const canvas = document.createElement('canvas');\n",
              "      canvas.width = video.videoWidth;\n",
              "      canvas.height = video.videoHeight;\n",
              "      canvas.getContext('2d').drawImage(video, 0, 0);\n",
              "      stream.getVideoTracks()[0].stop();\n",
              "      div.remove();\n",
              "      return canvas.toDataURL('image/jpeg', quality);\n",
              "    }\n",
              "    "
            ],
            "text/plain": [
              "<IPython.core.display.Javascript object>"
            ]
          },
          "metadata": {}
        },
        {
          "output_type": "error",
          "ename": "KeyboardInterrupt",
          "evalue": "ignored",
          "traceback": [
            "\u001b[0;31m---------------------------------------------------------------------------\u001b[0m",
            "\u001b[0;31mKeyboardInterrupt\u001b[0m                         Traceback (most recent call last)",
            "\u001b[0;32m<ipython-input-51-f08bef93e718>\u001b[0m in \u001b[0;36m<module>\u001b[0;34m()\u001b[0m\n\u001b[1;32m      1\u001b[0m \u001b[0;32mfrom\u001b[0m \u001b[0mIPython\u001b[0m\u001b[0;34m.\u001b[0m\u001b[0mdisplay\u001b[0m \u001b[0;32mimport\u001b[0m \u001b[0mImage\u001b[0m\u001b[0;34m\u001b[0m\u001b[0;34m\u001b[0m\u001b[0m\n\u001b[1;32m      2\u001b[0m \u001b[0;32mtry\u001b[0m\u001b[0;34m:\u001b[0m\u001b[0;34m\u001b[0m\u001b[0;34m\u001b[0m\u001b[0m\n\u001b[0;32m----> 3\u001b[0;31m   \u001b[0mfilename\u001b[0m \u001b[0;34m=\u001b[0m \u001b[0mtake_photo\u001b[0m\u001b[0;34m(\u001b[0m\u001b[0;34m)\u001b[0m\u001b[0;34m\u001b[0m\u001b[0;34m\u001b[0m\u001b[0m\n\u001b[0m\u001b[1;32m      4\u001b[0m   \u001b[0mprint\u001b[0m\u001b[0;34m(\u001b[0m\u001b[0;34m'Saved to {}'\u001b[0m\u001b[0;34m.\u001b[0m\u001b[0mformat\u001b[0m\u001b[0;34m(\u001b[0m\u001b[0mfilename\u001b[0m\u001b[0;34m)\u001b[0m\u001b[0;34m)\u001b[0m\u001b[0;34m\u001b[0m\u001b[0;34m\u001b[0m\u001b[0m\n\u001b[1;32m      5\u001b[0m \u001b[0;34m\u001b[0m\u001b[0m\n",
            "\u001b[0;32m<ipython-input-27-9a3bc4379e3c>\u001b[0m in \u001b[0;36mtake_photo\u001b[0;34m(filename, quality)\u001b[0m\n\u001b[1;32m     36\u001b[0m     ''')\n\u001b[1;32m     37\u001b[0m   \u001b[0mdisplay\u001b[0m\u001b[0;34m(\u001b[0m\u001b[0mjs\u001b[0m\u001b[0;34m)\u001b[0m\u001b[0;34m\u001b[0m\u001b[0;34m\u001b[0m\u001b[0m\n\u001b[0;32m---> 38\u001b[0;31m   \u001b[0mdata\u001b[0m \u001b[0;34m=\u001b[0m \u001b[0meval_js\u001b[0m\u001b[0;34m(\u001b[0m\u001b[0;34m'takePhoto({})'\u001b[0m\u001b[0;34m.\u001b[0m\u001b[0mformat\u001b[0m\u001b[0;34m(\u001b[0m\u001b[0mquality\u001b[0m\u001b[0;34m)\u001b[0m\u001b[0;34m)\u001b[0m\u001b[0;34m\u001b[0m\u001b[0;34m\u001b[0m\u001b[0m\n\u001b[0m\u001b[1;32m     39\u001b[0m   \u001b[0mbinary\u001b[0m \u001b[0;34m=\u001b[0m \u001b[0mb64decode\u001b[0m\u001b[0;34m(\u001b[0m\u001b[0mdata\u001b[0m\u001b[0;34m.\u001b[0m\u001b[0msplit\u001b[0m\u001b[0;34m(\u001b[0m\u001b[0;34m','\u001b[0m\u001b[0;34m)\u001b[0m\u001b[0;34m[\u001b[0m\u001b[0;36m1\u001b[0m\u001b[0;34m]\u001b[0m\u001b[0;34m)\u001b[0m\u001b[0;34m\u001b[0m\u001b[0;34m\u001b[0m\u001b[0m\n\u001b[1;32m     40\u001b[0m   \u001b[0;32mwith\u001b[0m \u001b[0mopen\u001b[0m\u001b[0;34m(\u001b[0m\u001b[0mfilename\u001b[0m\u001b[0;34m,\u001b[0m \u001b[0;34m'wb'\u001b[0m\u001b[0;34m)\u001b[0m \u001b[0;32mas\u001b[0m \u001b[0mf\u001b[0m\u001b[0;34m:\u001b[0m\u001b[0;34m\u001b[0m\u001b[0;34m\u001b[0m\u001b[0m\n",
            "\u001b[0;32m/usr/local/lib/python3.7/dist-packages/google/colab/output/_js.py\u001b[0m in \u001b[0;36meval_js\u001b[0;34m(script, ignore_result, timeout_sec)\u001b[0m\n\u001b[1;32m     38\u001b[0m   \u001b[0;32mif\u001b[0m \u001b[0mignore_result\u001b[0m\u001b[0;34m:\u001b[0m\u001b[0;34m\u001b[0m\u001b[0;34m\u001b[0m\u001b[0m\n\u001b[1;32m     39\u001b[0m     \u001b[0;32mreturn\u001b[0m\u001b[0;34m\u001b[0m\u001b[0;34m\u001b[0m\u001b[0m\n\u001b[0;32m---> 40\u001b[0;31m   \u001b[0;32mreturn\u001b[0m \u001b[0m_message\u001b[0m\u001b[0;34m.\u001b[0m\u001b[0mread_reply_from_input\u001b[0m\u001b[0;34m(\u001b[0m\u001b[0mrequest_id\u001b[0m\u001b[0;34m,\u001b[0m \u001b[0mtimeout_sec\u001b[0m\u001b[0;34m)\u001b[0m\u001b[0;34m\u001b[0m\u001b[0;34m\u001b[0m\u001b[0m\n\u001b[0m\u001b[1;32m     41\u001b[0m \u001b[0;34m\u001b[0m\u001b[0m\n\u001b[1;32m     42\u001b[0m \u001b[0;34m\u001b[0m\u001b[0m\n",
            "\u001b[0;32m/usr/local/lib/python3.7/dist-packages/google/colab/_message.py\u001b[0m in \u001b[0;36mread_reply_from_input\u001b[0;34m(message_id, timeout_sec)\u001b[0m\n\u001b[1;32m     99\u001b[0m     \u001b[0mreply\u001b[0m \u001b[0;34m=\u001b[0m \u001b[0m_read_next_input_message\u001b[0m\u001b[0;34m(\u001b[0m\u001b[0;34m)\u001b[0m\u001b[0;34m\u001b[0m\u001b[0;34m\u001b[0m\u001b[0m\n\u001b[1;32m    100\u001b[0m     \u001b[0;32mif\u001b[0m \u001b[0mreply\u001b[0m \u001b[0;34m==\u001b[0m \u001b[0m_NOT_READY\u001b[0m \u001b[0;32mor\u001b[0m \u001b[0;32mnot\u001b[0m \u001b[0misinstance\u001b[0m\u001b[0;34m(\u001b[0m\u001b[0mreply\u001b[0m\u001b[0;34m,\u001b[0m \u001b[0mdict\u001b[0m\u001b[0;34m)\u001b[0m\u001b[0;34m:\u001b[0m\u001b[0;34m\u001b[0m\u001b[0;34m\u001b[0m\u001b[0m\n\u001b[0;32m--> 101\u001b[0;31m       \u001b[0mtime\u001b[0m\u001b[0;34m.\u001b[0m\u001b[0msleep\u001b[0m\u001b[0;34m(\u001b[0m\u001b[0;36m0.025\u001b[0m\u001b[0;34m)\u001b[0m\u001b[0;34m\u001b[0m\u001b[0;34m\u001b[0m\u001b[0m\n\u001b[0m\u001b[1;32m    102\u001b[0m       \u001b[0;32mcontinue\u001b[0m\u001b[0;34m\u001b[0m\u001b[0;34m\u001b[0m\u001b[0m\n\u001b[1;32m    103\u001b[0m     if (reply.get('type') == 'colab_reply' and\n",
            "\u001b[0;31mKeyboardInterrupt\u001b[0m: "
          ]
        }
      ]
    },
    {
      "cell_type": "code",
      "source": [
        "import os, sys, subprocess\n",
        "if \"google.colab\" in sys.modules:\n",
        "    cmd = \"pip install --upgrade watermark\"\n",
        "    process = subprocess.Popen(cmd.split(), stdout=subprocess.PIPE, stderr=subprocess.PIPE)\n",
        "    stdout, stderr = process.communicate()"
      ],
      "metadata": {
        "id": "xdm7WeBpiL2k"
      },
      "execution_count": null,
      "outputs": []
    },
    {
      "cell_type": "code",
      "execution_count": null,
      "metadata": {
        "id": "E9ZMPK-kk7mD"
      },
      "outputs": [],
      "source": [
        "from PIL import ImageFont, ImageDraw, Image\n",
        "import os\n",
        "filepath = '/content/drive/MyDrive/image/images.jpg'\n",
        "img = Image.open(filepath)\n",
        "  \n",
        "# get width and height\n",
        "width = img.width\n",
        "height = img.height\n",
        "\n",
        "def find_font_size(text, font, image, target_width_ratio):\n",
        "    tested_font_size = 100\n",
        "    tested_font = ImageFont.truetype(font, tested_font_size)\n",
        "    observed_width, observed_height = get_text_size(text, image, tested_font)\n",
        "    if(observed_width>0):\n",
        "      estimated_font_size = tested_font_size / (observed_width / width) * target_width_ratio\n",
        "      return round(estimated_font_size)\n",
        "\n",
        "def get_text_size(text, image, font):\n",
        "    im = Image.new('RGB', (width, height))\n",
        "    draw = ImageDraw.Draw(im)\n",
        "    return draw.textsize(text, font)\n",
        "\n",
        "width_ratio = 0.5\n",
        "font_family = os.path.join(\"/content/drive/MyDrive/image/arial.ttf\")"
      ]
    },
    {
      "cell_type": "code",
      "execution_count": null,
      "metadata": {
        "id": "EVkyMNwI4ZCL"
      },
      "outputs": [],
      "source": [
        "import re\n",
        "import cv2 \n",
        "import numpy as np\n",
        "import pytesseract\n",
        "from pytesseract import Output\n",
        "from matplotlib import pyplot as plt"
      ]
    },
    {
      "cell_type": "code",
      "source": [
        "# noise removal\n",
        "def remove_noise(image):\n",
        "    return cv2.medianBlur(image,5)\n",
        " \n",
        "#thresholding\n",
        "def thresholding(image):\n",
        "    return cv2.threshold(image, 0, 255, cv2.THRESH_BINARY + cv2.THRESH_OTSU)[1]\n",
        "\n",
        "#skew correction\n",
        "def deskew(image):\n",
        "    coords = np.column_stack(np.where(image > 0))\n",
        "    angle = cv2.minAreaRect(coords)[-1]\n",
        "    if angle < -45:\n",
        "        angle = -(90 + angle)\n",
        "    else:\n",
        "        angle = -angle\n",
        "    (h, w) = image.shape[:2]\n",
        "    center = (w // 2, h // 2)\n",
        "    M = cv2.getRotationMatrix2D(center, angle, 1.0)\n",
        "    rotated = cv2.warpAffine(image, M, (w, h), flags=cv2.INTER_CUBIC, borderMode=cv2.BORDER_REPLICATE)\n",
        "    return rotated\n",
        "\n",
        "def image_smoothening(img):\n",
        "    kernel = np.array([[0, -1, 0],\n",
        "                   [-1, 5,-1],\n",
        "                   [0, -1, 0]])\n",
        "    image_sharp = cv2.filter2D(src=img, ddepth=-1, kernel=kernel)\n",
        "    return image_sharp\n",
        "\n",
        "def remove_noise_and_smooth(img):\n",
        "    # img = cv2.imread(file_name, 0)\n",
        "    filtered = cv2.adaptiveThreshold(img.astype(np.uint8), 255, cv2.ADAPTIVE_THRESH_MEAN_C, cv2.THRESH_BINARY, 9, 41)\n",
        "    kernel = np.ones((1, 1), np.uint8)\n",
        "    opening = cv2.morphologyEx(filtered, cv2.MORPH_OPEN, kernel)\n",
        "    closing = cv2.morphologyEx(opening, cv2.MORPH_CLOSE, kernel)\n",
        "    img = image_smoothening(img)\n",
        "    or_image = cv2.bitwise_or(img, closing)\n",
        "    return or_image"
      ],
      "metadata": {
        "id": "i1M1Dizuaj0y"
      },
      "execution_count": null,
      "outputs": []
    },
    {
      "cell_type": "code",
      "source": [
        "from PIL import ImageFilter, ImageEnhance\n",
        "from PIL import ImageChops, Image\n",
        "\n",
        "from scipy import misc, ndimage"
      ],
      "metadata": {
        "id": "Ph10-0v-bJc0"
      },
      "execution_count": null,
      "outputs": []
    },
    {
      "cell_type": "code",
      "source": [
        "import imutils\n",
        "\n",
        "image = Image.open(filepath)\n",
        "\n",
        "greyscale_image = image.convert('L')\n",
        "greyscale_image.save(filepath)\n",
        "\n",
        "Image.open(filepath)\n",
        "\n",
        "print(image.mode) # Output: RGB\n",
        "print(greyscale_image.mode) # Output: L"
      ],
      "metadata": {
        "id": "quylwWvBL5wU",
        "colab": {
          "base_uri": "https://localhost:8080/"
        },
        "outputId": "94030571-2592-4190-fdcc-5c30fa47e571"
      },
      "execution_count": null,
      "outputs": [
        {
          "output_type": "stream",
          "name": "stdout",
          "text": [
            "L\n",
            "L\n"
          ]
        }
      ]
    },
    {
      "cell_type": "code",
      "source": [
        "contrast = ImageEnhance.Contrast(image)\n",
        "contrast.enhance(3.0).save('photo.jpg')"
      ],
      "metadata": {
        "id": "k-H9qd7fP1xP"
      },
      "execution_count": null,
      "outputs": []
    },
    {
      "cell_type": "code",
      "source": [
        "brightness = ImageEnhance.Brightness(image)\n",
        "brightness.enhance(3.0).save('photo.jpg')"
      ],
      "metadata": {
        "id": "UuNFwNnYP_Hq"
      },
      "execution_count": null,
      "outputs": []
    },
    {
      "cell_type": "code",
      "source": [
        "sharpness = ImageEnhance.Sharpness(image)\n",
        "sharpness.enhance(3.0).save('photo.jpg')"
      ],
      "metadata": {
        "id": "7skF4wzFQD4t"
      },
      "execution_count": null,
      "outputs": []
    },
    {
      "cell_type": "code",
      "source": [
        "Image.open('photo.jpg')"
      ],
      "metadata": {
        "colab": {
          "base_uri": "https://localhost:8080/",
          "height": 211
        },
        "id": "ik31nAB0QOH4",
        "outputId": "71b7d71f-590e-46b8-ad34-c9aed37faa7e"
      },
      "execution_count": null,
      "outputs": [
        {
          "output_type": "execute_result",
          "data": {
            "image/png": "[encoded data removed]",
            "text/plain": [
              "<PIL.JpegImagePlugin.JpegImageFile image mode=L size=259x194 at 0x7FEC8530E490>"
            ]
          },
          "metadata": {},
          "execution_count": 65
        }
      ]
    },
    {
      "cell_type": "code",
      "source": [
        "# Get OCR output using Pytesseract\n",
        "custom_config = r'--oem 3 --psm 6'\n",
        "str1 = pytesseract.image_to_string(image, lang=\"eng\", config=\"--psm 6\")"
      ],
      "metadata": {
        "id": "SgwIKPqlMIdF"
      },
      "execution_count": null,
      "outputs": []
    },
    {
      "cell_type": "code",
      "source": [
        "file1 = open('myfile.txt', 'w')\n",
        "file1.writelines(str1)\n",
        "file1.close()"
      ],
      "metadata": {
        "id": "ZFS1R4G5MKSC"
      },
      "execution_count": null,
      "outputs": []
    },
    {
      "cell_type": "code",
      "source": [
        "# Using readlines()\n",
        "file1 = open('myfile.txt', 'r')\n",
        "Lines = file1.readlines()"
      ],
      "metadata": {
        "id": "t6QOlwerMMI6"
      },
      "execution_count": null,
      "outputs": []
    },
    {
      "cell_type": "code",
      "source": [
        "print(Lines)\n",
        "for line in Lines:\n",
        "  line = line.strip()\n",
        "  if line!='':\n",
        "    line = re.sub('[^A-Za-z0-9]+', ' ', line)\n",
        "    # pg = result[result['name'].str.contains(line, case=False)]\n",
        "    pg = result[result['name'].str.contains(line, case=False)]\n",
        "    print(pg)      "
      ],
      "metadata": {
        "colab": {
          "base_uri": "https://localhost:8080/"
        },
        "id": "11G0a1m6MOkn",
        "outputId": "4500f263-ad6d-4cb9-b173-28ca1b987df9"
      },
      "execution_count": null,
      "outputs": [
        {
          "output_type": "stream",
          "name": "stdout",
          "text": [
            "['DORNASE ALFA\\n', 'PULMOZYME:\\n', 'ImaLaion seuvron\\n', '\\n', 'Se\\n', '\\x0c']\n",
            "                name                                        description\n",
            "2       Dornase alfa  Dornase alfa is a biosynthetic form of human d...\n",
            "143235  Dornase alfa                                    Cystic Fibrosis\n",
            "Empty DataFrame\n",
            "Columns: [name, description]\n",
            "Index: []\n",
            "Empty DataFrame\n",
            "Columns: [name, description]\n",
            "Index: []\n",
            "                name                                        description\n",
            "2       Dornase alfa  Dornase alfa is a biosynthetic form of human d...\n",
            "8          Alteplase  Human tissue plasminogen activator, purified, ...\n",
            "9         Sermorelin  Sermorelin acetate is the acetate salt of an a...\n",
            "12         Urokinase  Low molecular weight form of human urokinase, ...\n",
            "13         Goserelin  Goserelin is a synthetic hormone. In men, it s...\n",
            "...              ...                                                ...\n",
            "161147    Sertraline                             Social Anxiety Disorde\n",
            "161209      Seroquel                                         Depression\n",
            "161234      Seroquel                                    Bipolar Disorde\n",
            "161237    Lorcaserin                                            Obesity\n",
            "161238    Sertraline                                         Depression\n",
            "\n",
            "[5780 rows x 2 columns]\n"
          ]
        }
      ]
    },
    {
      "cell_type": "code",
      "source": [
        "plt.imshow(image)"
      ],
      "metadata": {
        "colab": {
          "base_uri": "https://localhost:8080/",
          "height": 287
        },
        "id": "AemN78U0MRjy",
        "outputId": "e742b9f7-ca53-40be-8b1e-80c442e3b3bf"
      },
      "execution_count": null,
      "outputs": [
        {
          "output_type": "execute_result",
          "data": {
            "text/plain": [
              "<matplotlib.image.AxesImage at 0x7fec8533d390>"
            ]
          },
          "metadata": {},
          "execution_count": 37
        },
        {
          "output_type": "display_data",
          "data": {
            "image/png": "[encoded data removed]",
            "text/plain": [
              "<Figure size 432x288 with 1 Axes>"
            ]
          },
          "metadata": {
            "needs_background": "light"
          }
        }
      ]
    },
    {
      "cell_type": "code",
      "source": [
        "df1 = pd.read_csv('/content/drive/MyDrive/image/letters.csv')\n",
        "df2 = pd.read_csv('/content/drive/MyDrive/image/letters2.csv')\n",
        "df3 = pd.read_csv('/content/drive/MyDrive/image/letters3.csv')"
      ],
      "metadata": {
        "id": "FzIer35rroTs"
      },
      "execution_count": 3,
      "outputs": []
    },
    {
      "cell_type": "code",
      "source": [
        "frames = [df1, df2, df3]\n",
        "df = pd.concat(frames)\n",
        "df.shape"
      ],
      "metadata": {
        "colab": {
          "base_uri": "https://localhost:8080/"
        },
        "id": "oiay9-S_56CH",
        "outputId": "d305dace-95ba-4135-ad61-aa82617caa42"
      },
      "execution_count": null,
      "outputs": [
        {
          "output_type": "execute_result",
          "data": {
            "text/plain": [
              "(14190, 4)"
            ]
          },
          "metadata": {},
          "execution_count": 4
        }
      ]
    },
    {
      "cell_type": "code",
      "source": [
        "df = df1"
      ],
      "metadata": {
        "id": "LB-fCVfw6-XE"
      },
      "execution_count": 4,
      "outputs": []
    },
    {
      "cell_type": "code",
      "source": [
        "from keras.datasets import cifar10\n",
        "from keras.models import Sequential\n",
        "from keras.layers import Dense, Dropout, Conv2D, MaxPool2D, Flatten\n",
        "from keras.utils import np_utils\n",
        "from tqdm import tqdm\n"
      ],
      "metadata": {
        "id": "kIdWAi2juLR0"
      },
      "execution_count": 5,
      "outputs": []
    },
    {
      "cell_type": "code",
      "source": [
        "# Remove warning messages\n",
        "import warnings\n",
        "warnings.filterwarnings('ignore')\n",
        "\n",
        "import pandas as pd\n",
        "import numpy as np\n",
        "import random\n",
        "\n",
        "# navigation and read files\n",
        "import glob\n",
        "import os\n",
        "\n",
        "# Read HDF5 binary data format: convenient for large data storage\n",
        "import h5py\n",
        "\n",
        "# Read and display images\n",
        "import matplotlib.pyplot as plt\n",
        "import imageio\n",
        "import cv2\n",
        "from tensorflow.keras.preprocessing.image import load_img\n",
        "from tensorflow.keras.preprocessing.image import img_to_array\n",
        "#from tensorflow import keras\n",
        "\n",
        "# DL dependancies\n",
        "from sklearn.model_selection import train_test_split\n",
        "from sklearn.utils import shuffle\n",
        "from tensorflow.keras.models import Sequential\n",
        "from tensorflow.keras.layers import Dense, Flatten, Conv2D, MaxPooling2D, Dropout, LeakyReLU,GlobalMaxPooling2D\n",
        "from tensorflow.keras.metrics import top_k_categorical_accuracy,categorical_accuracy\n",
        "from tensorflow.keras.callbacks import ModelCheckpoint,ReduceLROnPlateau,EarlyStopping"
      ],
      "metadata": {
        "id": "5vzRV67lVUMR"
      },
      "execution_count": 8,
      "outputs": []
    },
    {
      "cell_type": "code",
      "source": [
        "# Path of images\n",
        "PATH_TO_DATA = '/content/drive/MyDrive/image/'\n",
        "CSV_FILES =  ['letters.csv', 'letters2.csv', 'letters3.csv']"
      ],
      "metadata": {
        "id": "H2aZPM_z2sH3"
      },
      "execution_count": 9,
      "outputs": []
    },
    {
      "cell_type": "code",
      "source": [
        "def import_data(CSV_FILE):\n",
        "    data = pd.read_csv(PATH_TO_DATA + CSV_FILE)\n",
        "    # Create path extention for corresponding folders that contains images \n",
        "    data['source'] = CSV_FILE[:-4]+'/'\n",
        "    return data"
      ],
      "metadata": {
        "id": "BIskpLTB5v0c"
      },
      "execution_count": 19,
      "outputs": []
    },
    {
      "cell_type": "code",
      "source": [
        "data1 = import_data(CSV_FILES[0])\n",
        "data2 = import_data(CSV_FILES[1])\n",
        "data3 = import_data(CSV_FILES[2])\n",
        "data = pd.concat([data1, data2, data3], ignore_index=True)\n",
        "\n",
        "# I won't use these data anymore\n",
        "del(data1, data2, data3)"
      ],
      "metadata": {
        "id": "pQ_YPMId21TT"
      },
      "execution_count": 20,
      "outputs": []
    },
    {
      "cell_type": "code",
      "source": [
        "data = shuffle(data, random_state = 42)"
      ],
      "metadata": {
        "id": "rTB1EbQ43889"
      },
      "execution_count": 21,
      "outputs": []
    },
    {
      "cell_type": "code",
      "source": [
        "# Get all labels in one string\n",
        "letters = '' \n",
        "for letter in data.letter.unique():\n",
        "    letters += letter\n",
        "    \n",
        "# Which letter is written on each image\n",
        "labels = data.label"
      ],
      "metadata": {
        "id": "e-Ta5vEJ3-Z2"
      },
      "execution_count": 22,
      "outputs": []
    },
    {
      "cell_type": "code",
      "source": [
        "def ohe_letters(label):\n",
        "    '''\n",
        "    One hot encoding for the target label\n",
        "    '''\n",
        "    resu = np.zeros(len(letters))\n",
        "    index = letters.index(label)\n",
        "    resu[index] = 1\n",
        "    return resu\n",
        "\n",
        "def ohe_backgrounds(label):\n",
        "    '''\n",
        "    One hot encoding for background column\n",
        "    '''\n",
        "    resu = np.zeros(len(data.background.unique()))\n",
        "    resu[label] = 1\n",
        "    return resu"
      ],
      "metadata": {
        "id": "ARk7eTVp4PhI"
      },
      "execution_count": 23,
      "outputs": []
    },
    {
      "cell_type": "code",
      "source": [
        "data['encoded_letter'] = data['letter'].apply(lambda x:ohe_letters(x))\n",
        "data['encoded_background'] = data['background'].apply(lambda x:ohe_backgrounds(x))"
      ],
      "metadata": {
        "id": "s73zG7kW4CCT"
      },
      "execution_count": 24,
      "outputs": []
    },
    {
      "cell_type": "code",
      "source": [
        "data"
      ],
      "metadata": {
        "colab": {
          "base_uri": "https://localhost:8080/",
          "height": 423
        },
        "id": "6BrrST2I4dYo",
        "outputId": "58c11a99-2f69-4568-fbfb-8f2233a21429"
      },
      "execution_count": 25,
      "outputs": [
        {
          "output_type": "execute_result",
          "data": {
            "text/html": [
              "\n",
              "  <div id=\"df-3ac8ff3d-c982-4b1d-8693-c7d81dd874f2\">\n",
              "    <div class=\"colab-df-container\">\n",
              "      <div>\n",
              "<style scoped>\n",
              "    .dataframe tbody tr th:only-of-type {\n",
              "        vertical-align: middle;\n",
              "    }\n",
              "\n",
              "    .dataframe tbody tr th {\n",
              "        vertical-align: top;\n",
              "    }\n",
              "\n",
              "    .dataframe thead th {\n",
              "        text-align: right;\n",
              "    }\n",
              "</style>\n",
              "<table border=\"1\" class=\"dataframe\">\n",
              "  <thead>\n",
              "    <tr style=\"text-align: right;\">\n",
              "      <th></th>\n",
              "      <th>letter</th>\n",
              "      <th>label</th>\n",
              "      <th>file</th>\n",
              "      <th>background</th>\n",
              "      <th>source</th>\n",
              "      <th>encoded_letter</th>\n",
              "      <th>encoded_background</th>\n",
              "    </tr>\n",
              "  </thead>\n",
              "  <tbody>\n",
              "    <tr>\n",
              "      <th>6491</th>\n",
              "      <td>щ</td>\n",
              "      <td>27</td>\n",
              "      <td>27_212.png</td>\n",
              "      <td>2</td>\n",
              "      <td>letters2/</td>\n",
              "      <td>[1.0, 0.0, 0.0, 0.0, 0.0, 0.0, 0.0, 0.0, 0.0, ...</td>\n",
              "      <td>[0.0, 0.0, 1.0, 0.0]</td>\n",
              "    </tr>\n",
              "    <tr>\n",
              "      <th>2012</th>\n",
              "      <td>в</td>\n",
              "      <td>3</td>\n",
              "      <td>03_53.png</td>\n",
              "      <td>2</td>\n",
              "      <td>letters2/</td>\n",
              "      <td>[0.0, 1.0, 0.0, 0.0, 0.0, 0.0, 0.0, 0.0, 0.0, ...</td>\n",
              "      <td>[0.0, 0.0, 1.0, 0.0]</td>\n",
              "    </tr>\n",
              "    <tr>\n",
              "      <th>13295</th>\n",
              "      <td>ы</td>\n",
              "      <td>29</td>\n",
              "      <td>29_336.png</td>\n",
              "      <td>3</td>\n",
              "      <td>letters3/</td>\n",
              "      <td>[0.0, 0.0, 1.0, 0.0, 0.0, 0.0, 0.0, 0.0, 0.0, ...</td>\n",
              "      <td>[0.0, 0.0, 0.0, 1.0]</td>\n",
              "    </tr>\n",
              "    <tr>\n",
              "      <th>11270</th>\n",
              "      <td>с</td>\n",
              "      <td>19</td>\n",
              "      <td>19_311.png</td>\n",
              "      <td>3</td>\n",
              "      <td>letters3/</td>\n",
              "      <td>[0.0, 0.0, 0.0, 1.0, 0.0, 0.0, 0.0, 0.0, 0.0, ...</td>\n",
              "      <td>[0.0, 0.0, 0.0, 1.0]</td>\n",
              "    </tr>\n",
              "    <tr>\n",
              "      <th>12837</th>\n",
              "      <td>щ</td>\n",
              "      <td>27</td>\n",
              "      <td>27_278.png</td>\n",
              "      <td>3</td>\n",
              "      <td>letters3/</td>\n",
              "      <td>[1.0, 0.0, 0.0, 0.0, 0.0, 0.0, 0.0, 0.0, 0.0, ...</td>\n",
              "      <td>[0.0, 0.0, 0.0, 1.0]</td>\n",
              "    </tr>\n",
              "    <tr>\n",
              "      <th>...</th>\n",
              "      <td>...</td>\n",
              "      <td>...</td>\n",
              "      <td>...</td>\n",
              "      <td>...</td>\n",
              "      <td>...</td>\n",
              "      <td>...</td>\n",
              "      <td>...</td>\n",
              "    </tr>\n",
              "    <tr>\n",
              "      <th>5191</th>\n",
              "      <td>т</td>\n",
              "      <td>20</td>\n",
              "      <td>20_172.png</td>\n",
              "      <td>2</td>\n",
              "      <td>letters2/</td>\n",
              "      <td>[0.0, 0.0, 0.0, 0.0, 0.0, 0.0, 0.0, 0.0, 0.0, ...</td>\n",
              "      <td>[0.0, 0.0, 1.0, 0.0]</td>\n",
              "    </tr>\n",
              "    <tr>\n",
              "      <th>13418</th>\n",
              "      <td>ь</td>\n",
              "      <td>30</td>\n",
              "      <td>30_259.png</td>\n",
              "      <td>3</td>\n",
              "      <td>letters3/</td>\n",
              "      <td>[0.0, 0.0, 0.0, 0.0, 0.0, 0.0, 0.0, 0.0, 0.0, ...</td>\n",
              "      <td>[0.0, 0.0, 0.0, 1.0]</td>\n",
              "    </tr>\n",
              "    <tr>\n",
              "      <th>5390</th>\n",
              "      <td>у</td>\n",
              "      <td>21</td>\n",
              "      <td>21_191.png</td>\n",
              "      <td>2</td>\n",
              "      <td>letters2/</td>\n",
              "      <td>[0.0, 0.0, 0.0, 0.0, 0.0, 0.0, 0.0, 0.0, 0.0, ...</td>\n",
              "      <td>[0.0, 0.0, 1.0, 0.0]</td>\n",
              "    </tr>\n",
              "    <tr>\n",
              "      <th>860</th>\n",
              "      <td>р</td>\n",
              "      <td>18</td>\n",
              "      <td>18_11.png</td>\n",
              "      <td>0</td>\n",
              "      <td>letters/</td>\n",
              "      <td>[0.0, 0.0, 0.0, 0.0, 0.0, 0.0, 0.0, 0.0, 0.0, ...</td>\n",
              "      <td>[1.0, 0.0, 0.0, 0.0]</td>\n",
              "    </tr>\n",
              "    <tr>\n",
              "      <th>7270</th>\n",
              "      <td>ю</td>\n",
              "      <td>32</td>\n",
              "      <td>32_91.png</td>\n",
              "      <td>2</td>\n",
              "      <td>letters2/</td>\n",
              "      <td>[0.0, 0.0, 0.0, 0.0, 0.0, 0.0, 0.0, 0.0, 1.0, ...</td>\n",
              "      <td>[0.0, 0.0, 1.0, 0.0]</td>\n",
              "    </tr>\n",
              "  </tbody>\n",
              "</table>\n",
              "<p>14190 rows × 7 columns</p>\n",
              "</div>\n",
              "      <button class=\"colab-df-convert\" onclick=\"convertToInteractive('df-3ac8ff3d-c982-4b1d-8693-c7d81dd874f2')\"\n",
              "              title=\"Convert this dataframe to an interactive table.\"\n",
              "              style=\"display:none;\">\n",
              "        \n",
              "  <svg xmlns=\"http://www.w3.org/2000/svg\" height=\"24px\"viewBox=\"0 0 24 24\"\n",
              "       width=\"24px\">\n",
              "    <path d=\"M0 0h24v24H0V0z\" fill=\"none\"/>\n",
              "    <path d=\"M18.56 5.44l.94 2.06.94-2.06 2.06-.94-2.06-.94-.94-2.06-.94 2.06-2.06.94zm-11 1L8.5 8.5l.94-2.06 2.06-.94-2.06-.94L8.5 2.5l-.94 2.06-2.06.94zm10 10l.94 2.06.94-2.06 2.06-.94-2.06-.94-.94-2.06-.94 2.06-2.06.94z\"/><path d=\"M17.41 7.96l-1.37-1.37c-.4-.4-.92-.59-1.43-.59-.52 0-1.04.2-1.43.59L10.3 9.45l-7.72 7.72c-.78.78-.78 2.05 0 2.83L4 21.41c.39.39.9.59 1.41.59.51 0 1.02-.2 1.41-.59l7.78-7.78 2.81-2.81c.8-.78.8-2.07 0-2.86zM5.41 20L4 18.59l7.72-7.72 1.47 1.35L5.41 20z\"/>\n",
              "  </svg>\n",
              "      </button>\n",
              "      \n",
              "  <style>\n",
              "    .colab-df-container {\n",
              "      display:flex;\n",
              "      flex-wrap:wrap;\n",
              "      gap: 12px;\n",
              "    }\n",
              "\n",
              "    .colab-df-convert {\n",
              "      background-color: #E8F0FE;\n",
              "      border: none;\n",
              "      border-radius: 50%;\n",
              "      cursor: pointer;\n",
              "      display: none;\n",
              "      fill: #1967D2;\n",
              "      height: 32px;\n",
              "      padding: 0 0 0 0;\n",
              "      width: 32px;\n",
              "    }\n",
              "\n",
              "    .colab-df-convert:hover {\n",
              "      background-color: #E2EBFA;\n",
              "      box-shadow: 0px 1px 2px rgba(60, 64, 67, 0.3), 0px 1px 3px 1px rgba(60, 64, 67, 0.15);\n",
              "      fill: #174EA6;\n",
              "    }\n",
              "\n",
              "    [theme=dark] .colab-df-convert {\n",
              "      background-color: #3B4455;\n",
              "      fill: #D2E3FC;\n",
              "    }\n",
              "\n",
              "    [theme=dark] .colab-df-convert:hover {\n",
              "      background-color: #434B5C;\n",
              "      box-shadow: 0px 1px 3px 1px rgba(0, 0, 0, 0.15);\n",
              "      filter: drop-shadow(0px 1px 2px rgba(0, 0, 0, 0.3));\n",
              "      fill: #FFFFFF;\n",
              "    }\n",
              "  </style>\n",
              "\n",
              "      <script>\n",
              "        const buttonEl =\n",
              "          document.querySelector('#df-3ac8ff3d-c982-4b1d-8693-c7d81dd874f2 button.colab-df-convert');\n",
              "        buttonEl.style.display =\n",
              "          google.colab.kernel.accessAllowed ? 'block' : 'none';\n",
              "\n",
              "        async function convertToInteractive(key) {\n",
              "          const element = document.querySelector('#df-3ac8ff3d-c982-4b1d-8693-c7d81dd874f2');\n",
              "          const dataTable =\n",
              "            await google.colab.kernel.invokeFunction('convertToInteractive',\n",
              "                                                     [key], {});\n",
              "          if (!dataTable) return;\n",
              "\n",
              "          const docLinkHtml = 'Like what you see? Visit the ' +\n",
              "            '<a target=\"_blank\" href=https://colab.research.google.com/notebooks/data_table.ipynb>data table notebook</a>'\n",
              "            + ' to learn more about interactive tables.';\n",
              "          element.innerHTML = '';\n",
              "          dataTable['output_type'] = 'display_data';\n",
              "          await google.colab.output.renderOutput(dataTable, element);\n",
              "          const docLink = document.createElement('div');\n",
              "          docLink.innerHTML = docLinkHtml;\n",
              "          element.appendChild(docLink);\n",
              "        }\n",
              "      </script>\n",
              "    </div>\n",
              "  </div>\n",
              "  "
            ],
            "text/plain": [
              "      letter  ...    encoded_background\n",
              "6491       щ  ...  [0.0, 0.0, 1.0, 0.0]\n",
              "2012       в  ...  [0.0, 0.0, 1.0, 0.0]\n",
              "13295      ы  ...  [0.0, 0.0, 0.0, 1.0]\n",
              "11270      с  ...  [0.0, 0.0, 0.0, 1.0]\n",
              "12837      щ  ...  [0.0, 0.0, 0.0, 1.0]\n",
              "...      ...  ...                   ...\n",
              "5191       т  ...  [0.0, 0.0, 1.0, 0.0]\n",
              "13418      ь  ...  [0.0, 0.0, 0.0, 1.0]\n",
              "5390       у  ...  [0.0, 0.0, 1.0, 0.0]\n",
              "860        р  ...  [1.0, 0.0, 0.0, 0.0]\n",
              "7270       ю  ...  [0.0, 0.0, 1.0, 0.0]\n",
              "\n",
              "[14190 rows x 7 columns]"
            ]
          },
          "metadata": {},
          "execution_count": 25
        }
      ]
    },
    {
      "cell_type": "code",
      "source": [
        "# Store all png images into one numpy array\n",
        "images = []\n",
        "# Will be the target\n",
        "encoded_labels = []\n",
        "\n",
        "backgrounds = []\n",
        "encoded_backgrounds = []\n",
        "\n",
        "# I want to be sure that every image is consitent\n",
        "for i, row in data.iterrows():\n",
        "    img_name = row['file']\n",
        "    numpy_image = cv2.imread(os.path.join(PATH_TO_DATA + row['source'], img_name))\n",
        "    if numpy_image.shape == (32, 32, 3):\n",
        "        images.append(numpy_image)\n",
        "        encoded_labels.append(row['encoded_letter'])\n",
        "        backgrounds.append(row['background'])\n",
        "        encoded_backgrounds.append(row['encoded_background'])\n",
        "        \n",
        "# Normalize array of images\n",
        "images = np.array(images)/255"
      ],
      "metadata": {
        "id": "bjyHpZGC4SO-"
      },
      "execution_count": 26,
      "outputs": []
    },
    {
      "cell_type": "code",
      "source": [
        "def display_image(images_list, list_of_labels = np.arange(9)):\n",
        "    \n",
        "    # plot first few images\n",
        "    plt.figure(figsize=(12,12))\n",
        "    for index in list_of_labels:\n",
        "        \n",
        "        # Get corresponding label\n",
        "        ohe_label = encoded_labels[index]\n",
        "        index_letter = list(ohe_label).index(1)\n",
        "        associated_letter = letters[index_letter]\n",
        "\n",
        "        # Get background\n",
        "        associated_background = backgrounds[index]\n",
        "        \n",
        "        \n",
        "        # define subplot\n",
        "        plt.subplot(330 + 1 + index)\n",
        "        plt.title('Label: %s \\n'%associated_letter+\\\n",
        "                 'Background: %s\\n'%associated_background,\n",
        "                 fontsize=18)\n",
        "        # plot raw pixel data\n",
        "        plt.imshow(images[index])\n",
        "        \n",
        "    plt.subplots_adjust(bottom = 0.001)  # the bottom of the subplots of the figure\n",
        "    plt.subplots_adjust(top = 0.99)\n",
        "    # show the figure\n",
        "    plt.show()\n"
      ],
      "metadata": {
        "id": "zkHHLukv6U3v"
      },
      "execution_count": 28,
      "outputs": []
    },
    {
      "cell_type": "code",
      "source": [
        "# Define X_data and target\n",
        "X = np.array(images.copy())\n",
        "y = np.array(encoded_labels.copy())\n",
        "\n",
        "# Stratified train_test split on labels\n",
        "X_train, X_val, y_train, y_val = train_test_split(X, y, \n",
        "                                                  test_size=.2, \n",
        "                                                  stratify = y, \n",
        "                                                  random_state=42)"
      ],
      "metadata": {
        "id": "J7jcT87x6V52"
      },
      "execution_count": 29,
      "outputs": []
    },
    {
      "cell_type": "code",
      "source": [
        "# Define image dimensions\n",
        "IMG_ROWS = 32\n",
        "IMG_COLS = 32\n",
        "# 3 stands for RGB images, 1 if greyscaled images\n",
        "INPUT_SHAPE = (IMG_ROWS, IMG_COLS, 3)\n",
        "\n",
        "# Number of classes to consider\n",
        "NUM_CLASSES = len(letters)\n",
        "# Group of training samples\n",
        "BATCH_SIZE = 64\n",
        "# Number of complete presentations of the dataset to be learned\n",
        "EPOCHS = 100"
      ],
      "metadata": {
        "id": "_MugWDct6b8c"
      },
      "execution_count": 30,
      "outputs": []
    },
    {
      "cell_type": "code",
      "source": [
        "def top_3_categorical_accuracy(y_true, y_pred):\n",
        "    return top_k_categorical_accuracy(y_true, y_pred, k=3)"
      ],
      "metadata": {
        "id": "D2BhwJuy6kt3"
      },
      "execution_count": 31,
      "outputs": []
    },
    {
      "cell_type": "code",
      "source": [
        "def CNN_model(activation = 'softmax', \n",
        "              loss = 'categorical_crossentropy', \n",
        "              optimizer = 'adam', \n",
        "              metrics = ['accuracy', top_3_categorical_accuracy]):\n",
        "    \n",
        "    model = Sequential()\n",
        "    model.add(Conv2D(32, kernel_size = (3, 3),\n",
        "                     activation = 'relu',\n",
        "                     input_shape = INPUT_SHAPE))\n",
        "    model.add(Conv2D(64, (3, 3), activation = 'relu'))\n",
        "    model.add(Conv2D(128, (4, 4), activation = 'relu'))\n",
        "    model.add(MaxPooling2D(pool_size = (2, 2)))\n",
        "    model.add(Dropout(0.25))\n",
        "    model.add(Flatten())\n",
        "    model.add(Dense(128, activation = 'relu'))\n",
        "    model.add(Dropout(0.25))\n",
        "    model.add(Dense(NUM_CLASSES, activation = activation))\n",
        "    \n",
        "    # Compile the model\n",
        "    model.compile(loss = loss,\n",
        "                  optimizer = optimizer, \n",
        "                  metrics = metrics)\n",
        "    \n",
        "    return model"
      ],
      "metadata": {
        "id": "g6A397OK6o64"
      },
      "execution_count": 32,
      "outputs": []
    },
    {
      "cell_type": "code",
      "source": [
        "# Init CNN model\n",
        "cnn_model = CNN_model()\n",
        "\n",
        "# Save weights only for best model\n",
        "checkpointer = ModelCheckpoint(filepath = '/content/drive/MyDrive/image/weights.best.letters.hdf5', \n",
        "                               verbose = 2, \n",
        "                               save_best_only = True)\n",
        "\n",
        "# Reduce learning rate when a metric has stopped improving\n",
        "lr_reduction = ReduceLROnPlateau(monitor='val_loss', \n",
        "                                 patience=10, \n",
        "                                 verbose=2, \n",
        "                                 factor=.75)\n",
        "\n",
        "# If score doesn't improve during patience=20 epochs, stop learning\n",
        "estopping = EarlyStopping(monitor='val_loss', \n",
        "                          patience=20, \n",
        "                          verbose=2)\n",
        "\n",
        "# Training\n",
        "history = cnn_model.fit(X_train, y_train,\n",
        "                        batch_size = BATCH_SIZE,\n",
        "                        epochs = 1,\n",
        "                        verbose = 1,\n",
        "                        validation_data = (X_val, y_val),\n",
        "                        callbacks = [checkpointer, lr_reduction, estopping])\n"
      ],
      "metadata": {
        "colab": {
          "base_uri": "https://localhost:8080/"
        },
        "id": "4T-EZrfT6ulI",
        "outputId": "bda542f3-b358-465b-bf61-953ec6b3ed17"
      },
      "execution_count": 34,
      "outputs": [
        {
          "output_type": "stream",
          "name": "stdout",
          "text": [
            "178/178 [==============================] - ETA: 0s - loss: 3.4143 - accuracy: 0.0562 - top_3_categorical_accuracy: 0.1518\n",
            "Epoch 1: val_loss improved from inf to 2.88024, saving model to /content/drive/MyDrive/image/weights.best.letters.hdf5\n",
            "178/178 [==============================] - 158s 883ms/step - loss: 3.4143 - accuracy: 0.0562 - top_3_categorical_accuracy: 0.1518 - val_loss: 2.8802 - val_accuracy: 0.1763 - val_top_3_categorical_accuracy: 0.4034 - lr: 0.0010\n"
          ]
        }
      ]
    },
    {
      "cell_type": "code",
      "source": [
        "dict_keys(['loss', 'accuracy', 'top_3_categorical_accuracy', 'val_loss', 'val_accuracy', 'val_top_3_categorical_accuracy', 'lr'])"
      ],
      "metadata": {
        "colab": {
          "base_uri": "https://localhost:8080/",
          "height": 171
        },
        "id": "GaR4iPiQ6vn4",
        "outputId": "e6fb948c-01e6-4026-887a-bd4222f64c21"
      },
      "execution_count": 35,
      "outputs": [
        {
          "output_type": "error",
          "ename": "NameError",
          "evalue": "ignored",
          "traceback": [
            "\u001b[0;31m---------------------------------------------------------------------------\u001b[0m",
            "\u001b[0;31mNameError\u001b[0m                                 Traceback (most recent call last)",
            "\u001b[0;32m<ipython-input-35-7cac98322dd0>\u001b[0m in \u001b[0;36m<module>\u001b[0;34m()\u001b[0m\n\u001b[0;32m----> 1\u001b[0;31m \u001b[0mdict_keys\u001b[0m\u001b[0;34m(\u001b[0m\u001b[0;34m[\u001b[0m\u001b[0;34m'loss'\u001b[0m\u001b[0;34m,\u001b[0m \u001b[0;34m'accuracy'\u001b[0m\u001b[0;34m,\u001b[0m \u001b[0;34m'top_3_categorical_accuracy'\u001b[0m\u001b[0;34m,\u001b[0m \u001b[0;34m'val_loss'\u001b[0m\u001b[0;34m,\u001b[0m \u001b[0;34m'val_accuracy'\u001b[0m\u001b[0;34m,\u001b[0m \u001b[0;34m'val_top_3_categorical_accuracy'\u001b[0m\u001b[0;34m,\u001b[0m \u001b[0;34m'lr'\u001b[0m\u001b[0;34m]\u001b[0m\u001b[0;34m)\u001b[0m\u001b[0;34m\u001b[0m\u001b[0;34m\u001b[0m\u001b[0m\n\u001b[0m",
            "\u001b[0;31mNameError\u001b[0m: name 'dict_keys' is not defined"
          ]
        }
      ]
    },
    {
      "cell_type": "code",
      "source": [
        "plot_history(history)"
      ],
      "metadata": {
        "colab": {
          "base_uri": "https://localhost:8080/",
          "height": 171
        },
        "id": "oWH6g46S65RM",
        "outputId": "9195afd7-1e0a-45cf-bd72-e12228f44c9d"
      },
      "execution_count": 36,
      "outputs": [
        {
          "output_type": "error",
          "ename": "NameError",
          "evalue": "ignored",
          "traceback": [
            "\u001b[0;31m---------------------------------------------------------------------------\u001b[0m",
            "\u001b[0;31mNameError\u001b[0m                                 Traceback (most recent call last)",
            "\u001b[0;32m<ipython-input-36-a8489d1127d4>\u001b[0m in \u001b[0;36m<module>\u001b[0;34m()\u001b[0m\n\u001b[0;32m----> 1\u001b[0;31m \u001b[0mplot_history\u001b[0m\u001b[0;34m(\u001b[0m\u001b[0mhistory\u001b[0m\u001b[0;34m)\u001b[0m\u001b[0;34m\u001b[0m\u001b[0;34m\u001b[0m\u001b[0m\n\u001b[0m",
            "\u001b[0;31mNameError\u001b[0m: name 'plot_history' is not defined"
          ]
        }
      ]
    },
    {
      "cell_type": "code",
      "source": [
        "# loading the model with the best validation accuracy\n",
        "cnn_model.load_weights('/content/drive/MyDrive/image/weights.best.letters.hdf5')\n",
        "cnn_model.evaluate(X_val, y_val)"
      ],
      "metadata": {
        "colab": {
          "base_uri": "https://localhost:8080/"
        },
        "id": "2BKRB89068Kg",
        "outputId": "41e808e1-599e-483f-e5f5-b8011956d002"
      },
      "execution_count": 37,
      "outputs": [
        {
          "output_type": "stream",
          "name": "stdout",
          "text": [
            "89/89 [==============================] - 9s 104ms/step - loss: 2.8802 - accuracy: 0.1763 - top_3_categorical_accuracy: 0.4034\n"
          ]
        },
        {
          "output_type": "execute_result",
          "data": {
            "text/plain": [
              "[2.8802361488342285, 0.1763046532869339, 0.4033850431442261]"
            ]
          },
          "metadata": {},
          "execution_count": 37
        }
      ]
    },
    {
      "cell_type": "code",
      "source": [
        "def load_image(path_filename):\n",
        "\t# load the image\n",
        "\timg = load_img(path_filename, target_size=(32, 32))\n",
        "\t# convert to array\n",
        "\timg = img_to_array(img)\n",
        "\t# reshape into a single sample with 1 channel\n",
        "\timg = img.reshape(1, 32, 32, 3)\n",
        "\t# prepare pixel data\n",
        "\timg = img.astype('float32')\n",
        "\timg = img / 255.0\n",
        "\treturn img"
      ],
      "metadata": {
        "id": "N_VfV2mz7DpS"
      },
      "execution_count": 38,
      "outputs": []
    },
    {
      "cell_type": "code",
      "source": [
        "def get_true_label(path_filename, dataframe, column_to_get):\n",
        "    filename = os.path.basename(os.path.normpath(path_filename))\n",
        "    index_row = data[data['file']==filename].index[0]\n",
        "    return data.loc[index_row, column_to_get]"
      ],
      "metadata": {
        "id": "TXM1uam07Emx"
      },
      "execution_count": 39,
      "outputs": []
    },
    {
      "cell_type": "code",
      "source": [
        "img = load_image('/content/drive/MyDrive/image/letters/33_50.png')"
      ],
      "metadata": {
        "id": "DJmxgIcn7HdN"
      },
      "execution_count": 40,
      "outputs": []
    },
    {
      "cell_type": "code",
      "source": [
        "# predict the class\n",
        "a_letter = cnn_model.predict_classes(img)\n",
        "\n",
        "plt.imshow(img[0])\n",
        "print('predicted:', letters[a_letter[0]])\n",
        "print('true label:', get_true_label(PATH_TO_DATA+'letters3/01_235.png', data, 'letter'))"
      ],
      "metadata": {
        "colab": {
          "base_uri": "https://localhost:8080/",
          "height": 244
        },
        "id": "lW_6_Jwt7KIi",
        "outputId": "e0b3b9e8-7800-473b-b1c0-da2366d5c137"
      },
      "execution_count": 41,
      "outputs": [
        {
          "output_type": "error",
          "ename": "AttributeError",
          "evalue": "ignored",
          "traceback": [
            "\u001b[0;31m---------------------------------------------------------------------------\u001b[0m",
            "\u001b[0;31mAttributeError\u001b[0m                            Traceback (most recent call last)",
            "\u001b[0;32m<ipython-input-41-62dd3750a567>\u001b[0m in \u001b[0;36m<module>\u001b[0;34m()\u001b[0m\n\u001b[1;32m      1\u001b[0m \u001b[0;31m# predict the class\u001b[0m\u001b[0;34m\u001b[0m\u001b[0;34m\u001b[0m\u001b[0;34m\u001b[0m\u001b[0m\n\u001b[0;32m----> 2\u001b[0;31m \u001b[0ma_letter\u001b[0m \u001b[0;34m=\u001b[0m \u001b[0mcnn_model\u001b[0m\u001b[0;34m.\u001b[0m\u001b[0mpredict_classes\u001b[0m\u001b[0;34m(\u001b[0m\u001b[0mimg\u001b[0m\u001b[0;34m)\u001b[0m\u001b[0;34m\u001b[0m\u001b[0;34m\u001b[0m\u001b[0m\n\u001b[0m\u001b[1;32m      3\u001b[0m \u001b[0;34m\u001b[0m\u001b[0m\n\u001b[1;32m      4\u001b[0m \u001b[0mplt\u001b[0m\u001b[0;34m.\u001b[0m\u001b[0mimshow\u001b[0m\u001b[0;34m(\u001b[0m\u001b[0mimg\u001b[0m\u001b[0;34m[\u001b[0m\u001b[0;36m0\u001b[0m\u001b[0;34m]\u001b[0m\u001b[0;34m)\u001b[0m\u001b[0;34m\u001b[0m\u001b[0;34m\u001b[0m\u001b[0m\n\u001b[1;32m      5\u001b[0m \u001b[0mprint\u001b[0m\u001b[0;34m(\u001b[0m\u001b[0;34m'predicted:'\u001b[0m\u001b[0;34m,\u001b[0m \u001b[0mletters\u001b[0m\u001b[0;34m[\u001b[0m\u001b[0ma_letter\u001b[0m\u001b[0;34m[\u001b[0m\u001b[0;36m0\u001b[0m\u001b[0;34m]\u001b[0m\u001b[0;34m]\u001b[0m\u001b[0;34m)\u001b[0m\u001b[0;34m\u001b[0m\u001b[0;34m\u001b[0m\u001b[0m\n",
            "\u001b[0;31mAttributeError\u001b[0m: 'Sequential' object has no attribute 'predict_classes'"
          ]
        }
      ]
    },
    {
      "cell_type": "code",
      "source": [
        "def load_random_images(number_of_images_to_load = 9):\n",
        "    images = []\n",
        "    true_labels = []\n",
        "    true_backgrounds = []\n",
        "    \n",
        "    which_folder = [random.randint(1,3) for _ in range(number_of_images_to_load)]\n",
        "    for index_folder in which_folder:\n",
        "        if index_folder == 1:\n",
        "            path = PATH_TO_DATA+'letters/'\n",
        "        else:\n",
        "            path = PATH_TO_DATA+'letters'+str(index_folder)+'/'\n",
        "        nb_files = len(os.listdir(path))\n",
        "        \n",
        "        index_image = random.randint(0, len(os.listdir(path)))\n",
        "        \n",
        "        image = load_image(path + os.listdir(path)[index_image])\n",
        "        label = get_true_label(path + os.listdir(path)[index_image], data, 'letter')\n",
        "        background = get_true_label(path + os.listdir(path)[index_image], data, 'background')\n",
        "\n",
        "        images.append(image)\n",
        "        true_labels.append(label)\n",
        "        true_backgrounds.append(background)\n",
        "        \n",
        "    return images, true_labels, true_backgrounds\n"
      ],
      "metadata": {
        "id": "6bYgv5WX7NjF"
      },
      "execution_count": null,
      "outputs": []
    },
    {
      "cell_type": "code",
      "source": [
        "def classes_predictions(images_list_to_classify, true_labels, model):\n",
        "    \n",
        "    # plot first few images\n",
        "    plt.figure(figsize=(12,12))\n",
        "    for index, image in enumerate(images_list_to_classify):\n",
        "        \n",
        "        a_letter = model.predict_classes(image)\n",
        "        associated_letter = letters[a_letter[0]]\n",
        "        \n",
        "        # define subplot\n",
        "        plt.subplot(330 + 1 + index)\n",
        "        plt.title('Predicted Label: %s \\n'%associated_letter+\\\n",
        "                  'True Label: %s\\n'%true_labels[index],\n",
        "                 fontsize=18)\n",
        "        # plot raw pixel data\n",
        "        plt.imshow(image[0])\n",
        "        \n",
        "    plt.subplots_adjust(bottom = 0.001)  # the bottom of the subplots of the figure\n",
        "    plt.subplots_adjust(top = 0.99)\n",
        "        \n",
        "    # show the figure\n",
        "    plt.show()"
      ],
      "metadata": {
        "id": "8uY-KfnQ7Tky"
      },
      "execution_count": null,
      "outputs": []
    },
    {
      "cell_type": "code",
      "source": [
        "test_images, true_labels, true_backgrounds = load_random_images()"
      ],
      "metadata": {
        "id": "PPPBoAMa7Yis"
      },
      "execution_count": null,
      "outputs": []
    },
    {
      "cell_type": "code",
      "source": [
        "classes_predictions(test_images, true_labels, cnn_model)"
      ],
      "metadata": {
        "id": "NGLfAECs7a_9"
      },
      "execution_count": null,
      "outputs": []
    },
    {
      "cell_type": "code",
      "source": [
        "# Define X_data and target\n",
        "X = np.array(images.copy())\n",
        "y = np.array(encoded_backgrounds.copy())"
      ],
      "metadata": {
        "id": "chL9IIDe7ddg"
      },
      "execution_count": null,
      "outputs": []
    },
    {
      "cell_type": "code",
      "source": [
        "# Stratified train_test split on labels\n",
        "X_train, X_val, y_train, y_val = train_test_split(X, y, \n",
        "                                                  test_size=.2, \n",
        "                                                  stratify = y, \n",
        "                                                  random_state=42)"
      ],
      "metadata": {
        "id": "2BA7w5l27gwH"
      },
      "execution_count": null,
      "outputs": []
    },
    {
      "cell_type": "code",
      "source": [
        "# Define image dimensions\n",
        "IMG_ROWS = 32\n",
        "IMG_COLS = 32\n",
        "# 3 stands for RGB images, 1 if greyscaled images\n",
        "INPUT_SHAPE = (IMG_ROWS, IMG_COLS, 3)\n",
        "\n",
        "# Number of classes to consider\n",
        "NUM_CLASSES = len(set(backgrounds))\n",
        "# Group of training samples\n",
        "BATCH_SIZE = 32\n",
        "# Number of complete presentations of the dataset to be learned\n",
        "EPOCHS = 100"
      ],
      "metadata": {
        "id": "XVYI86gf72dt"
      },
      "execution_count": null,
      "outputs": []
    },
    {
      "cell_type": "code",
      "source": [
        "def CNN_back_model(activation = 'softmax', \n",
        "              loss = 'categorical_crossentropy', \n",
        "              optimizer = 'adam', \n",
        "              metrics = ['accuracy', top_3_categorical_accuracy]):\n",
        "    \n",
        "    model = Sequential()\n",
        "    model.add(Conv2D(32, kernel_size = (3, 3),\n",
        "                     activation = 'relu',\n",
        "                     input_shape = INPUT_SHAPE))\n",
        "    model.add(Conv2D(64, (3, 3), activation = 'relu'))\n",
        "    model.add(Conv2D(128, (4, 4), activation = 'relu'))\n",
        "    model.add(MaxPooling2D(pool_size = (2, 2)))\n",
        "    model.add(Dropout(0.25))\n",
        "    model.add(Flatten())\n",
        "    model.add(Dense(128, activation = 'relu'))\n",
        "    model.add(Dropout(0.25))\n",
        "    model.add(Dense(NUM_CLASSES, activation = activation))\n",
        "    \n",
        "    # Compile the model\n",
        "    model.compile(loss = loss,\n",
        "                  optimizer = optimizer, \n",
        "                  metrics = metrics)\n",
        "    \n",
        "    return model"
      ],
      "metadata": {
        "id": "asCWeH8y7517"
      },
      "execution_count": null,
      "outputs": []
    },
    {
      "cell_type": "code",
      "source": [
        "# Init CNN model\n",
        "background_model = CNN_back_model()\n",
        "\n",
        "# Save weights only for best model\n",
        "checkpointer = ModelCheckpoint(filepath = '/content/drive/MyDrive/image/weights.best.letters.hdf5', \n",
        "                               verbose = 2, \n",
        "                               save_best_only = True)\n",
        "\n",
        "# Reduce learning rate when a metric has stopped improving\n",
        "lr_reduction = ReduceLROnPlateau(monitor='val_loss', \n",
        "                                 patience=10, \n",
        "                                 verbose=2, \n",
        "                                 factor=.75)\n",
        "\n",
        "# If score doesn't improve during patience=20 epochs, stop learning\n",
        "estopping = EarlyStopping(monitor='val_loss', \n",
        "                          patience=20, \n",
        "                          verbose=2)\n",
        "\n",
        "# Training\n",
        "history_background = background_model.fit(X_train, y_train,\n",
        "                                          batch_size = BATCH_SIZE,\n",
        "                                          epochs = EPOCHS,\n",
        "                                          verbose = 1,\n",
        "                                          validation_data = (X_val, y_val),\n",
        "                                          callbacks = [checkpointer, lr_reduction, estopping])\n"
      ],
      "metadata": {
        "id": "LsYlj46a7-hG"
      },
      "execution_count": null,
      "outputs": []
    },
    {
      "cell_type": "code",
      "source": [
        "plot_history(history_background)"
      ],
      "metadata": {
        "id": "m7S2sdFQ8CiW"
      },
      "execution_count": null,
      "outputs": []
    },
    {
      "cell_type": "code",
      "source": [
        "# loading the model with the best validation accuracy\n",
        "background_model.load_weights('/content/drive/MyDrive/image/weights.best.letters.hdf5')\n",
        "background_model.evaluate(X_val, y_val)"
      ],
      "metadata": {
        "id": "YfYrNGZh8E53"
      },
      "execution_count": null,
      "outputs": []
    },
    {
      "cell_type": "code",
      "source": [
        "def improved_classes_predictions(images_list_to_classify, true_labels, true_backgrounds, letter_model, backg_model):\n",
        "    \n",
        "    # plot first few images\n",
        "    plt.figure(figsize=(12,12))\n",
        "    for index, image in enumerate(images_list_to_classify):\n",
        "        \n",
        "        a_letter = letter_model.predict_classes(image)\n",
        "        associated_letter = letters[a_letter[0]]\n",
        "        \n",
        "        a_background_letter = background_model.predict_classes(image) \n",
        "        \n",
        "        # define subplot\n",
        "        plt.subplot(330 + 1 + index)\n",
        "        plt.title('Predicted Label: %s \\n'%associated_letter+\\\n",
        "                  'True Label: %s\\n'%true_labels[index]+\\\n",
        "                  'Predicted Background: %s\\n'%a_background_letter[0]+\\\n",
        "                  'True Background: %s\\n'%true_backgrounds[index],\n",
        "                 fontsize=18)\n",
        "        # plot raw pixel data\n",
        "        plt.imshow(image[0])\n",
        "        \n",
        "    plt.subplots_adjust(bottom = 0.001)  # the bottom of the subplots of the figure\n",
        "    plt.subplots_adjust(top = 0.99)\n",
        "        \n",
        "    # show the figure\n",
        "    plt.show()\n"
      ],
      "metadata": {
        "id": "CUfiZoKa8Kvs"
      },
      "execution_count": null,
      "outputs": []
    },
    {
      "cell_type": "code",
      "source": [
        "improved_classes_predictions(test_images, true_labels, true_backgrounds, cnn_model , background_model)"
      ],
      "metadata": {
        "id": "cuxzSsAr8REy"
      },
      "execution_count": null,
      "outputs": []
    }
  ],
  "metadata": {
    "colab": {
      "collapsed_sections": [],
      "name": "Text-detection.ipynb",
      "provenance": [],
      "authorship_tag": "ABX9TyM695ZRW5tfjzeXmwuB9uLB",
      "include_colab_link": true
    },
    "kernelspec": {
      "display_name": "Python 3",
      "name": "python3"
    },
    "language_info": {
      "name": "python"
    }
  },
  "nbformat": 4,
  "nbformat_minor": 0
}