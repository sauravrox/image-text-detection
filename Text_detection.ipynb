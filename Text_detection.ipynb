{
  "cells": [
    {
      "cell_type": "markdown",
      "metadata": {
        "id": "view-in-github",
        "colab_type": "text"
      },
      "source": [
        "<a href=\"https://colab.research.google.com/github/sauravrox/image-text-detection/blob/main/Text_detection.ipynb\" target=\"_parent\"><img src=\"https://colab.research.google.com/assets/colab-badge.svg\" alt=\"Open In Colab\"/></a>"
      ]
    },
    {
      "cell_type": "code",
      "execution_count": null,
      "metadata": {
        "id": "rpSM31QGXYvj"
      },
      "outputs": [],
      "source": [
        "import os\n",
        "import csv\n",
        "import gzip\n",
        "import collections\n",
        "import re\n",
        "import io\n",
        "import json\n",
        "import xml.etree.ElementTree as ET\n",
        "\n",
        "import requests\n",
        "import pandas"
      ]
    },
    {
      "cell_type": "code",
      "execution_count": null,
      "metadata": {
        "colab": {
          "base_uri": "https://localhost:8080/"
        },
        "id": "i595_R87ZVFL",
        "outputId": "19ac3bcd-d531-4081-9395-e8b8472d63ea"
      },
      "outputs": [
        {
          "output_type": "stream",
          "name": "stdout",
          "text": [
            "Mounted at /content/drive\n"
          ]
        }
      ],
      "source": [
        "from google.colab import drive\n",
        "drive.mount('/content/drive')"
      ]
    },
    {
      "cell_type": "code",
      "execution_count": null,
      "metadata": {
        "id": "tJi2Qu1pXYtL"
      },
      "outputs": [],
      "source": [
        "xml_path = os.path.join('/content/drive/MyDrive/image/drugbank.xml.gz')\n",
        "with gzip.open(xml_path) as xml_file:\n",
        "    tree = ET.parse(xml_file)\n",
        "root = tree.getroot()"
      ]
    },
    {
      "cell_type": "code",
      "execution_count": null,
      "metadata": {
        "id": "c0cFflyNXYq4"
      },
      "outputs": [],
      "source": [
        "ns = '{http://www.drugbank.ca}'\n",
        "inchikey_template = \"{ns}calculated-properties/{ns}property[{ns}kind='InChIKey']/{ns}value\"\n",
        "inchi_template = \"{ns}calculated-properties/{ns}property[{ns}kind='InChI']/{ns}value\"\n",
        "\n",
        "rows = list()\n",
        "for i, drug in enumerate(root):\n",
        "    row = collections.OrderedDict()\n",
        "    assert drug.tag == ns + 'drug'\n",
        "    row['type'] = drug.get('type')\n",
        "    row['drugbank_id'] = drug.findtext(ns + \"drugbank-id[@primary='true']\")\n",
        "    row['name'] = drug.findtext(ns + \"name\")\n",
        "    row['description'] = drug.findtext(ns + \"description\")\n",
        "    row['groups'] = [group.text for group in\n",
        "        drug.findall(\"{ns}groups/{ns}group\".format(ns = ns))]\n",
        "    row['atc_codes'] = [code.get('code') for code in\n",
        "        drug.findall(\"{ns}atc-codes/{ns}atc-code\".format(ns = ns))]\n",
        "    row['categories'] = [x.findtext(ns + 'category') for x in\n",
        "        drug.findall(\"{ns}categories/{ns}category\".format(ns = ns))]\n",
        "    row['inchi'] = drug.findtext(inchi_template.format(ns = ns))\n",
        "    row['inchikey'] = drug.findtext(inchikey_template.format(ns = ns))\n",
        "    \n",
        "    # Add drug aliases\n",
        "    aliases = {\n",
        "        elem.text for elem in \n",
        "        drug.findall(\"{ns}international-brands/{ns}international-brand\".format(ns = ns)) +\n",
        "        drug.findall(\"{ns}synonyms/{ns}synonym[@language='English']\".format(ns = ns)) +\n",
        "        drug.findall(\"{ns}international-brands/{ns}international-brand\".format(ns = ns)) +\n",
        "        drug.findall(\"{ns}products/{ns}product/{ns}name\".format(ns = ns))\n",
        "\n",
        "    }\n",
        "    aliases.add(row['name'])\n",
        "    row['aliases'] = sorted(aliases)\n",
        "\n",
        "    rows.append(row)"
      ]
    },
    {
      "cell_type": "code",
      "execution_count": null,
      "metadata": {
        "id": "WDh5NGRWXYos"
      },
      "outputs": [],
      "source": [
        "alias_dict = {row['drugbank_id']: row['aliases'] for row in rows}\n",
        "with open('/content/drive/MyDrive/image/aliases.json', 'w') as fp:\n",
        "    json.dump(alias_dict, fp, indent=2, sort_keys=True)"
      ]
    },
    {
      "cell_type": "code",
      "execution_count": null,
      "metadata": {
        "colab": {
          "base_uri": "https://localhost:8080/",
          "height": 206
        },
        "id": "nBCGkjCYXYkS",
        "outputId": "0a744501-ef62-486a-cdfc-8a214e2242ed"
      },
      "outputs": [
        {
          "output_type": "execute_result",
          "data": {
            "text/html": [
              "\n",
              "  <div id=\"df-4b603d5b-1c0e-4e65-9a48-3eaf7d97e585\">\n",
              "    <div class=\"colab-df-container\">\n",
              "      <div>\n",
              "<style scoped>\n",
              "    .dataframe tbody tr th:only-of-type {\n",
              "        vertical-align: middle;\n",
              "    }\n",
              "\n",
              "    .dataframe tbody tr th {\n",
              "        vertical-align: top;\n",
              "    }\n",
              "\n",
              "    .dataframe thead th {\n",
              "        text-align: right;\n",
              "    }\n",
              "</style>\n",
              "<table border=\"1\" class=\"dataframe\">\n",
              "  <thead>\n",
              "    <tr style=\"text-align: right;\">\n",
              "      <th></th>\n",
              "      <th>drugbank_id</th>\n",
              "      <th>name</th>\n",
              "      <th>type</th>\n",
              "      <th>groups</th>\n",
              "      <th>atc_codes</th>\n",
              "      <th>categories</th>\n",
              "      <th>inchikey</th>\n",
              "      <th>inchi</th>\n",
              "      <th>description</th>\n",
              "    </tr>\n",
              "  </thead>\n",
              "  <tbody>\n",
              "    <tr>\n",
              "      <th>0</th>\n",
              "      <td>DB00001</td>\n",
              "      <td>Lepirudin</td>\n",
              "      <td>biotech</td>\n",
              "      <td>approved</td>\n",
              "      <td>B01AE02</td>\n",
              "      <td>Antithrombins|Fibrinolytic Agents</td>\n",
              "      <td>None</td>\n",
              "      <td>None</td>\n",
              "      <td>Lepirudin is identical to natural hirudin exce...</td>\n",
              "    </tr>\n",
              "    <tr>\n",
              "      <th>1</th>\n",
              "      <td>DB00002</td>\n",
              "      <td>Cetuximab</td>\n",
              "      <td>biotech</td>\n",
              "      <td>approved</td>\n",
              "      <td>L01XC06</td>\n",
              "      <td>Antineoplastic Agents</td>\n",
              "      <td>None</td>\n",
              "      <td>None</td>\n",
              "      <td>Epidermal growth factor receptor binding FAB. ...</td>\n",
              "    </tr>\n",
              "    <tr>\n",
              "      <th>2</th>\n",
              "      <td>DB00003</td>\n",
              "      <td>Dornase alfa</td>\n",
              "      <td>biotech</td>\n",
              "      <td>approved</td>\n",
              "      <td>R05CB13</td>\n",
              "      <td>Enzymes</td>\n",
              "      <td>None</td>\n",
              "      <td>None</td>\n",
              "      <td>Dornase alfa is a biosynthetic form of human d...</td>\n",
              "    </tr>\n",
              "    <tr>\n",
              "      <th>3</th>\n",
              "      <td>DB00004</td>\n",
              "      <td>Denileukin diftitox</td>\n",
              "      <td>biotech</td>\n",
              "      <td>approved|investigational</td>\n",
              "      <td>L01XX29</td>\n",
              "      <td>Antineoplastic Agents</td>\n",
              "      <td>None</td>\n",
              "      <td>None</td>\n",
              "      <td>A recombinant DNA-derived cytotoxic protein co...</td>\n",
              "    </tr>\n",
              "    <tr>\n",
              "      <th>4</th>\n",
              "      <td>DB00005</td>\n",
              "      <td>Etanercept</td>\n",
              "      <td>biotech</td>\n",
              "      <td>approved|investigational</td>\n",
              "      <td>L04AB01</td>\n",
              "      <td>Immunosuppressive Agents</td>\n",
              "      <td>None</td>\n",
              "      <td>None</td>\n",
              "      <td>Dimeric fusion protein consisting of the extra...</td>\n",
              "    </tr>\n",
              "  </tbody>\n",
              "</table>\n",
              "</div>\n",
              "      <button class=\"colab-df-convert\" onclick=\"convertToInteractive('df-4b603d5b-1c0e-4e65-9a48-3eaf7d97e585')\"\n",
              "              title=\"Convert this dataframe to an interactive table.\"\n",
              "              style=\"display:none;\">\n",
              "        \n",
              "  <svg xmlns=\"http://www.w3.org/2000/svg\" height=\"24px\"viewBox=\"0 0 24 24\"\n",
              "       width=\"24px\">\n",
              "    <path d=\"M0 0h24v24H0V0z\" fill=\"none\"/>\n",
              "    <path d=\"M18.56 5.44l.94 2.06.94-2.06 2.06-.94-2.06-.94-.94-2.06-.94 2.06-2.06.94zm-11 1L8.5 8.5l.94-2.06 2.06-.94-2.06-.94L8.5 2.5l-.94 2.06-2.06.94zm10 10l.94 2.06.94-2.06 2.06-.94-2.06-.94-.94-2.06-.94 2.06-2.06.94z\"/><path d=\"M17.41 7.96l-1.37-1.37c-.4-.4-.92-.59-1.43-.59-.52 0-1.04.2-1.43.59L10.3 9.45l-7.72 7.72c-.78.78-.78 2.05 0 2.83L4 21.41c.39.39.9.59 1.41.59.51 0 1.02-.2 1.41-.59l7.78-7.78 2.81-2.81c.8-.78.8-2.07 0-2.86zM5.41 20L4 18.59l7.72-7.72 1.47 1.35L5.41 20z\"/>\n",
              "  </svg>\n",
              "      </button>\n",
              "      \n",
              "  <style>\n",
              "    .colab-df-container {\n",
              "      display:flex;\n",
              "      flex-wrap:wrap;\n",
              "      gap: 12px;\n",
              "    }\n",
              "\n",
              "    .colab-df-convert {\n",
              "      background-color: #E8F0FE;\n",
              "      border: none;\n",
              "      border-radius: 50%;\n",
              "      cursor: pointer;\n",
              "      display: none;\n",
              "      fill: #1967D2;\n",
              "      height: 32px;\n",
              "      padding: 0 0 0 0;\n",
              "      width: 32px;\n",
              "    }\n",
              "\n",
              "    .colab-df-convert:hover {\n",
              "      background-color: #E2EBFA;\n",
              "      box-shadow: 0px 1px 2px rgba(60, 64, 67, 0.3), 0px 1px 3px 1px rgba(60, 64, 67, 0.15);\n",
              "      fill: #174EA6;\n",
              "    }\n",
              "\n",
              "    [theme=dark] .colab-df-convert {\n",
              "      background-color: #3B4455;\n",
              "      fill: #D2E3FC;\n",
              "    }\n",
              "\n",
              "    [theme=dark] .colab-df-convert:hover {\n",
              "      background-color: #434B5C;\n",
              "      box-shadow: 0px 1px 3px 1px rgba(0, 0, 0, 0.15);\n",
              "      filter: drop-shadow(0px 1px 2px rgba(0, 0, 0, 0.3));\n",
              "      fill: #FFFFFF;\n",
              "    }\n",
              "  </style>\n",
              "\n",
              "      <script>\n",
              "        const buttonEl =\n",
              "          document.querySelector('#df-4b603d5b-1c0e-4e65-9a48-3eaf7d97e585 button.colab-df-convert');\n",
              "        buttonEl.style.display =\n",
              "          google.colab.kernel.accessAllowed ? 'block' : 'none';\n",
              "\n",
              "        async function convertToInteractive(key) {\n",
              "          const element = document.querySelector('#df-4b603d5b-1c0e-4e65-9a48-3eaf7d97e585');\n",
              "          const dataTable =\n",
              "            await google.colab.kernel.invokeFunction('convertToInteractive',\n",
              "                                                     [key], {});\n",
              "          if (!dataTable) return;\n",
              "\n",
              "          const docLinkHtml = 'Like what you see? Visit the ' +\n",
              "            '<a target=\"_blank\" href=https://colab.research.google.com/notebooks/data_table.ipynb>data table notebook</a>'\n",
              "            + ' to learn more about interactive tables.';\n",
              "          element.innerHTML = '';\n",
              "          dataTable['output_type'] = 'display_data';\n",
              "          await google.colab.output.renderOutput(dataTable, element);\n",
              "          const docLink = document.createElement('div');\n",
              "          docLink.innerHTML = docLinkHtml;\n",
              "          element.appendChild(docLink);\n",
              "        }\n",
              "      </script>\n",
              "    </div>\n",
              "  </div>\n",
              "  "
            ],
            "text/plain": [
              "  drugbank_id  ...                                        description\n",
              "0     DB00001  ...  Lepirudin is identical to natural hirudin exce...\n",
              "1     DB00002  ...  Epidermal growth factor receptor binding FAB. ...\n",
              "2     DB00003  ...  Dornase alfa is a biosynthetic form of human d...\n",
              "3     DB00004  ...  A recombinant DNA-derived cytotoxic protein co...\n",
              "4     DB00005  ...  Dimeric fusion protein consisting of the extra...\n",
              "\n",
              "[5 rows x 9 columns]"
            ]
          },
          "metadata": {},
          "execution_count": 6
        }
      ],
      "source": [
        "def collapse_list_values(row):\n",
        "    for key, value in row.items():\n",
        "        if isinstance(value, list):\n",
        "            row[key] = '|'.join(value)\n",
        "    return row\n",
        "\n",
        "rows = list(map(collapse_list_values, rows))\n",
        "columns = ['drugbank_id', 'name', 'type', 'groups', 'atc_codes', 'categories', 'inchikey', 'inchi', 'description']\n",
        "drugbank_df = pandas.DataFrame.from_dict(rows)[columns]\n",
        "drugbank_df.head()"
      ]
    },
    {
      "cell_type": "code",
      "execution_count": null,
      "metadata": {
        "colab": {
          "base_uri": "https://localhost:8080/"
        },
        "id": "yLFhnMrf1LRu",
        "outputId": "69e2af83-bfbf-4708-e3c4-a4f002de3f66"
      },
      "outputs": [
        {
          "output_type": "stream",
          "name": "stdout",
          "text": [
            "Collecting tesseract-ocr\n",
            "  Downloading tesseract-ocr-0.0.1.tar.gz (33 kB)\n",
            "Requirement already satisfied: cython in /usr/local/lib/python3.7/dist-packages (from tesseract-ocr) (0.29.26)\n",
            "Building wheels for collected packages: tesseract-ocr\n",
            "  Building wheel for tesseract-ocr (setup.py) ... \u001b[?25lerror\n",
            "\u001b[31m  ERROR: Failed building wheel for tesseract-ocr\u001b[0m\n",
            "\u001b[?25h  Running setup.py clean for tesseract-ocr\n",
            "Failed to build tesseract-ocr\n",
            "Installing collected packages: tesseract-ocr\n",
            "    Running setup.py install for tesseract-ocr ... \u001b[?25l\u001b[?25herror\n",
            "\u001b[31mERROR: Command errored out with exit status 1: /usr/bin/python3 -u -c 'import io, os, sys, setuptools, tokenize; sys.argv[0] = '\"'\"'/tmp/pip-install-2yhtjcrt/tesseract-ocr_39fb8737b8f64412bb606794debc3a67/setup.py'\"'\"'; __file__='\"'\"'/tmp/pip-install-2yhtjcrt/tesseract-ocr_39fb8737b8f64412bb606794debc3a67/setup.py'\"'\"';f = getattr(tokenize, '\"'\"'open'\"'\"', open)(__file__) if os.path.exists(__file__) else io.StringIO('\"'\"'from setuptools import setup; setup()'\"'\"');code = f.read().replace('\"'\"'\\r\\n'\"'\"', '\"'\"'\\n'\"'\"');f.close();exec(compile(code, __file__, '\"'\"'exec'\"'\"'))' install --record /tmp/pip-record-qcvzbjmm/install-record.txt --single-version-externally-managed --compile --install-headers /usr/local/include/python3.7/tesseract-ocr Check the logs for full command output.\u001b[0m\n",
            "\u001b[31mERROR: Could not find a version that satisfies the requirement libtesseract-dev (from versions: none)\u001b[0m\n",
            "\u001b[31mERROR: No matching distribution found for libtesseract-dev\u001b[0m\n",
            "Collecting pytesseract\n",
            "  Downloading pytesseract-0.3.8.tar.gz (14 kB)\n",
            "Requirement already satisfied: Pillow in /usr/local/lib/python3.7/dist-packages (from pytesseract) (7.1.2)\n",
            "Building wheels for collected packages: pytesseract\n",
            "  Building wheel for pytesseract (setup.py) ... \u001b[?25l\u001b[?25hdone\n",
            "  Created wheel for pytesseract: filename=pytesseract-0.3.8-py2.py3-none-any.whl size=14070 sha256=643ecaa19dbb523fed28833d3c8a20ffa60574b06bab02ddd042053224d0a4ae\n",
            "  Stored in directory: /root/.cache/pip/wheels/a4/89/b9/3f11250225d0f90e5454fcc30fd1b7208db226850715aa9ace\n",
            "Successfully built pytesseract\n",
            "Installing collected packages: pytesseract\n",
            "Successfully installed pytesseract-0.3.8\n"
          ]
        }
      ],
      "source": [
        "!pip install tesseract-ocr\n",
        "!pip install libtesseract-dev\n",
        "!pip install pytesseract"
      ]
    },
    {
      "cell_type": "code",
      "execution_count": null,
      "metadata": {
        "id": "3n4WtwOa1gtq"
      },
      "outputs": [],
      "source": [
        "import pandas as pd\n",
        "import numpy as np\n",
        "import cv2\n",
        "import pytesseract\n",
        "custom_config = r' — oem 3 — psm 6'\n",
        "from matplotlib import pyplot as plt"
      ]
    },
    {
      "cell_type": "code",
      "execution_count": null,
      "metadata": {
        "id": "WaWXaFJ11npb"
      },
      "outputs": [],
      "source": [
        "# !sudo apt install tesseract-ocr"
      ]
    },
    {
      "cell_type": "code",
      "execution_count": null,
      "metadata": {
        "id": "E9ZMPK-kk7mD"
      },
      "outputs": [],
      "source": [
        "from PIL import ImageFont, ImageDraw, Image\n",
        "\n",
        "filepath = '/content/drive/MyDrive/image/download.jpeg'\n",
        "img = Image.open(filepath)\n",
        "  \n",
        "# get width and height\n",
        "width = img.width\n",
        "height = img.height\n",
        "\n",
        "def find_font_size(text, font, image, target_width_ratio):\n",
        "    tested_font_size = 100\n",
        "    tested_font = ImageFont.truetype(font, tested_font_size)\n",
        "    observed_width, observed_height = get_text_size(text, image, tested_font)\n",
        "    if(observed_width>0):\n",
        "      estimated_font_size = tested_font_size / (observed_width / width) * target_width_ratio\n",
        "      return round(estimated_font_size)\n",
        "\n",
        "def get_text_size(text, image, font):\n",
        "    im = Image.new('RGB', (width, height))\n",
        "    draw = ImageDraw.Draw(im)\n",
        "    return draw.textsize(text, font)\n",
        "\n",
        "width_ratio = 0.5\n",
        "font_family = os.path.join(\"/content/drive/MyDrive/image/arial.ttf\")"
      ]
    },
    {
      "cell_type": "code",
      "execution_count": null,
      "metadata": {
        "id": "EVkyMNwI4ZCL"
      },
      "outputs": [],
      "source": [
        "import re\n",
        "import cv2 \n",
        "import numpy as np\n",
        "import pytesseract\n",
        "from pytesseract import Output\n",
        "from matplotlib import pyplot as plt"
      ]
    },
    {
      "cell_type": "code",
      "source": [
        "# noise removal\n",
        "def remove_noise(image):\n",
        "    return cv2.medianBlur(image,5)\n",
        " \n",
        "#thresholding\n",
        "def thresholding(image):\n",
        "    return cv2.threshold(image, 0, 255, cv2.THRESH_BINARY + cv2.THRESH_OTSU)[1]\n",
        "\n",
        "#skew correction\n",
        "def deskew(image):\n",
        "    coords = np.column_stack(np.where(image > 0))\n",
        "    angle = cv2.minAreaRect(coords)[-1]\n",
        "    if angle < -45:\n",
        "        angle = -(90 + angle)\n",
        "    else:\n",
        "        angle = -angle\n",
        "    (h, w) = image.shape[:2]\n",
        "    center = (w // 2, h // 2)\n",
        "    M = cv2.getRotationMatrix2D(center, angle, 1.0)\n",
        "    rotated = cv2.warpAffine(image, M, (w, h), flags=cv2.INTER_CUBIC, borderMode=cv2.BORDER_REPLICATE)\n",
        "    return rotated\n",
        "\n",
        "def image_smoothening(img):\n",
        "    kernel = np.array([[0, -1, 0],\n",
        "                   [-1, 5,-1],\n",
        "                   [0, -1, 0]])\n",
        "    image_sharp = cv2.filter2D(src=img, ddepth=-1, kernel=kernel)\n",
        "    return image_sharp\n",
        "\n",
        "def remove_noise_and_smooth(img):\n",
        "    # img = cv2.imread(file_name, 0)\n",
        "    filtered = cv2.adaptiveThreshold(img.astype(np.uint8), 255, cv2.ADAPTIVE_THRESH_MEAN_C, cv2.THRESH_BINARY, 9, 41)\n",
        "    kernel = np.ones((1, 1), np.uint8)\n",
        "    opening = cv2.morphologyEx(filtered, cv2.MORPH_OPEN, kernel)\n",
        "    closing = cv2.morphologyEx(opening, cv2.MORPH_CLOSE, kernel)\n",
        "    img = image_smoothening(img)\n",
        "    or_image = cv2.bitwise_or(img, closing)\n",
        "    return or_image"
      ],
      "metadata": {
        "id": "i1M1Dizuaj0y"
      },
      "execution_count": null,
      "outputs": []
    },
    {
      "cell_type": "code",
      "source": [
        "from PIL import ImageFilter, ImageEnhance\n",
        "from PIL import ImageChops, Image\n",
        "\n",
        "from scipy import misc, ndimage\n",
        "\n",
        "img = cv2.imread('/content/drive/MyDrive/image/download.jpeg',0)\n",
        "\n",
        "fig = plt.figure(figsize=(13,13))\n",
        "ax = []\n",
        "\n",
        "rows = 2\n",
        "columns = 2\n",
        "# keys = list(images.keys())\n",
        "\n",
        "ax.append( fig.add_subplot(rows, columns, 1) )\n",
        "img = remove_noise_and_smooth(img)\n",
        "\n",
        "img = cv2.cvtColor(img, cv2.COLOR_GRAY2BGR)\n",
        "\n",
        "dst = cv2.fastNlMeansDenoisingColored(img,None,10,10,7,21)\n",
        "\n",
        "def adjust_gamma(image, gamma=1.0):\n",
        "\n",
        "   invGamma = 1.0 / gamma\n",
        "   table = np.array([((i / 255.0) ** invGamma) * 255\n",
        "      for i in np.arange(0, 256)]).astype(\"uint8\")\n",
        "\n",
        "   return cv2.LUT(image, table)\n",
        "\n",
        "gamma = 0.01\n",
        "dst = adjust_gamma(dst, gamma=gamma)\n",
        "\n",
        "# Get OCR output using Pytesseract\n",
        "custom_config = r'--oem 3 --psm 6'\n",
        "str1 = pytesseract.image_to_string(dst, lang=\"eng\", config=\"--psm 6\")\n",
        "\n",
        "file1 = open('myfile.txt', 'w')\n",
        "file1.writelines(str1)\n",
        "file1.close()\n",
        " \n",
        "# Using readlines()\n",
        "file1 = open('myfile.txt', 'r')\n",
        "Lines = file1.readlines()\n",
        "\n",
        "for line in Lines:\n",
        "  if line:\n",
        "    line = line.strip()\n",
        "    print(line)\n",
        "    # print(find_font_size(line, font_family, dst, width_ratio))\n",
        "\n",
        "plt.imshow(dst)"
      ],
      "metadata": {
        "colab": {
          "base_uri": "https://localhost:8080/",
          "height": 573
        },
        "id": "Ph10-0v-bJc0",
        "outputId": "f83e71ec-ebc8-47a7-8b28-b94bd033f86d"
      },
      "execution_count": null,
      "outputs": [
        {
          "output_type": "stream",
          "name": "stdout",
          "text": [
            "sometimes you\n",
            "READ\n",
            "a book so ppecial\n",
            "that you (| want to _o.\n",
            "CARRY: AROUND\n",
            "with you for VW you've\n",
            "vont iia\n",
            "finished just “G CAs\n",
            "- Markus Zusak\n",
            "\n"
          ]
        },
        {
          "output_type": "execute_result",
          "data": {
            "text/plain": [
              "<matplotlib.image.AxesImage at 0x7f9ffddd9510>"
            ]
          },
          "metadata": {},
          "execution_count": 83
        },
        {
          "output_type": "display_data",
          "data": {
            "image/png": "[encoded data removed]",
            "text/plain": [
              "<Figure size 936x936 with 1 Axes>"
            ]
          },
          "metadata": {
            "needs_background": "light"
          }
        }
      ]
    }
  ],
  "metadata": {
    "colab": {
      "collapsed_sections": [],
      "name": "Text-detection.ipynb",
      "provenance": [],
      "authorship_tag": "ABX9TyOzo0qJDzyv8DgKzAd8NtHd",
      "include_colab_link": true
    },
    "kernelspec": {
      "display_name": "Python 3",
      "name": "python3"
    },
    "language_info": {
      "name": "python"
    }
  },
  "nbformat": 4,
  "nbformat_minor": 0
}